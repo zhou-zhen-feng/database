{
 "cells": [
  {
   "cell_type": "markdown",
   "id": "bb2f857c",
   "metadata": {},
   "source": [
    "## 思路简介\n",
    "研究表明，红色和橙色通常与兴奋、温暖和显着性相关，而绿色和蓝色则与放松\n",
    "和凉爽相关（Elliot & Maier，2014）。由于心理唤起会推动注意力和分享（Berger，2014），\n",
    "预期在运动健身类视频中使用唤起颜色（例如红色、橙色）比放松颜色（例如蓝色、绿色）的更多。"
   ]
  },
  {
   "cell_type": "markdown",
   "id": "451049b4",
   "metadata": {},
   "source": [
    "## 操作"
   ]
  },
  {
   "cell_type": "code",
   "execution_count": 1,
   "id": "c6cae763",
   "metadata": {},
   "outputs": [],
   "source": [
    "import numpy\n",
    "import colorsys\n",
    "from PIL import Image\n",
    "from tqdm.notebook import tqdm"
   ]
  },
  {
   "cell_type": "code",
   "execution_count": 2,
   "id": "59927e2d",
   "metadata": {},
   "outputs": [],
   "source": [
    "# 当运行的慢或者运行不出来时，请更新一下包\n",
    "# pip install --upgrade Pillow"
   ]
  },
  {
   "cell_type": "code",
   "execution_count": 3,
   "id": "f580839a",
   "metadata": {},
   "outputs": [],
   "source": [
    "def extract_hue(image,start_degree,end_degree):\n",
    "    pixels = image.load()\n",
    "    hue = []\n",
    "    count_pixels, cmax, cmin, h = 0, 0, 0, 0\n",
    "    for row in tqdm(range(0, image.height)):\n",
    "        for column in range(0, image.width):\n",
    "            count_pixels += 1\n",
    "            rgb = pixels[column, row]\n",
    "            hls_ready = colorsys.rgb_to_hls(rgb[0]/255, rgb[1]/255, rgb[2]/255)\n",
    "            \n",
    "            cmax = max(hls_ready[0], hls_ready[1], hls_ready[2])\n",
    "            cmin = min(hls_ready[0], hls_ready[1], hls_ready[2])\n",
    "            if (cmax - cmin) == 0:\n",
    "                h = 0\n",
    "            elif (cmax == hls_ready[0]) & (hls_ready[1] >= hls_ready[2]):\n",
    "                h = 60 * (hls_ready[1] - hls_ready[2]) / (cmax - cmin) + 240\n",
    "            elif (cmax == hls_ready[0]) & (hls_ready[1] < hls_ready[2]):\n",
    "                h = 60 * (hls_ready[1] - hls_ready[2]) / (cmax - cmin)\n",
    "            elif (cmax == hls_ready[1]):\n",
    "                h = 60 * (hls_ready[2] - hls_ready[0]) / (cmax - cmin) + 360\n",
    "            elif (cmax == hls_ready[2]):\n",
    "                h = 60 * (hls_ready[0] - hls_ready[1]) / (cmax - cmin) + 120\n",
    "            hue.append(h)\n",
    "            h = 0\n",
    "    # print(image,'该图像一共包含',count_pixels,'个像素点\\n')\n",
    "    color_pixel = 0\n",
    "    color_pixel_list = []\n",
    "    for color in hue:\n",
    "        if (color > float(f\"{start_degree}\")) & (color <= float(f\"{end_degree}\")):\n",
    "            color_pixel += 1\n",
    "            color_pixel_list.append(color)\n",
    "    color_ratio = color_pixel / count_pixels\n",
    "#     print('共有',violet,'个像素用到蓝紫色，占全图的%.2f%%' % (violet_ratio * 100))\n",
    "#     print('以下输出任意100个蓝紫色像素点：\\n')\n",
    "#     for each in violet_li[:100]:\n",
    "#         print(str(each) + '°')\n",
    "    return color_ratio"
   ]
  },
  {
   "cell_type": "code",
   "execution_count": 4,
   "id": "49f2de14",
   "metadata": {},
   "outputs": [],
   "source": [
    "def main(full_picture_name,start_degree,end_degree):\n",
    "    print('-----------------------------------')\n",
    "    print('| Extract Violet from RGB picture |')\n",
    "    print('-----------------------------------')\n",
    "    picture = Image.open(full_picture_name)\n",
    "    picture.show()\n",
    "    color_ratio = extract_hue(picture,start_degree,end_degree)\n",
    "    print(color_ratio)"
   ]
  },
  {
   "cell_type": "markdown",
   "id": "08234639",
   "metadata": {},
   "source": [
    "### red：4.5 < h ≤ 40.6"
   ]
  },
  {
   "cell_type": "code",
   "execution_count": 5,
   "id": "8efee2c8",
   "metadata": {},
   "outputs": [
    {
     "name": "stdout",
     "output_type": "stream",
     "text": [
      "-----------------------------------\n",
      "| Extract Violet from RGB picture |\n",
      "-----------------------------------\n"
     ]
    },
    {
     "data": {
      "application/vnd.jupyter.widget-view+json": {
       "model_id": "a6c955f834604157ad356a7cc6f8a50c",
       "version_major": 2,
       "version_minor": 0
      },
      "text/plain": [
       "  0%|          | 0/744 [00:00<?, ?it/s]"
      ]
     },
     "metadata": {},
     "output_type": "display_data"
    },
    {
     "name": "stdout",
     "output_type": "stream",
     "text": [
      "0.0\n"
     ]
    }
   ],
   "source": [
    "main(r'C:\\Users\\Administrator\\Desktop\\color_analysis\\pameila.png',4.5,40.6)"
   ]
  },
  {
   "cell_type": "markdown",
   "id": "108286b4",
   "metadata": {},
   "source": [
    "###  Orange： 40.6 < h ≤ 65.6"
   ]
  },
  {
   "cell_type": "code",
   "execution_count": 6,
   "id": "60e2f5bd",
   "metadata": {},
   "outputs": [
    {
     "name": "stdout",
     "output_type": "stream",
     "text": [
      "-----------------------------------\n",
      "| Extract Violet from RGB picture |\n",
      "-----------------------------------\n"
     ]
    },
    {
     "data": {
      "application/vnd.jupyter.widget-view+json": {
       "model_id": "dc5b02e7410845fcae667d726511d54a",
       "version_major": 2,
       "version_minor": 0
      },
      "text/plain": [
       "  0%|          | 0/744 [00:00<?, ?it/s]"
      ]
     },
     "metadata": {},
     "output_type": "display_data"
    },
    {
     "name": "stdout",
     "output_type": "stream",
     "text": [
      "0.008848958215761078\n"
     ]
    }
   ],
   "source": [
    "main(r'C:\\Users\\Administrator\\Desktop\\color_analysis\\pameila.png',40.6 ,65.6)"
   ]
  },
  {
   "cell_type": "markdown",
   "id": "8529d3c8",
   "metadata": {},
   "source": [
    "### Blue： 200.2 < h ≤ 272.6"
   ]
  },
  {
   "cell_type": "code",
   "execution_count": 7,
   "id": "2bf8bf31",
   "metadata": {},
   "outputs": [
    {
     "name": "stdout",
     "output_type": "stream",
     "text": [
      "-----------------------------------\n",
      "| Extract Violet from RGB picture |\n",
      "-----------------------------------\n"
     ]
    },
    {
     "data": {
      "application/vnd.jupyter.widget-view+json": {
       "model_id": "5a90b94685df4a33936e6223a27fab70",
       "version_major": 2,
       "version_minor": 0
      },
      "text/plain": [
       "  0%|          | 0/744 [00:00<?, ?it/s]"
      ]
     },
     "metadata": {},
     "output_type": "display_data"
    },
    {
     "name": "stdout",
     "output_type": "stream",
     "text": [
      "0.061178017562473194\n"
     ]
    }
   ],
   "source": [
    "main(r'C:\\Users\\Administrator\\Desktop\\color_analysis\\pameila.png',200.2  ,272.6)"
   ]
  },
  {
   "cell_type": "markdown",
   "id": "5856f449",
   "metadata": {},
   "source": [
    "###  Green ：94.0 < h ≤ 200.2"
   ]
  },
  {
   "cell_type": "code",
   "execution_count": 8,
   "id": "a35ea117",
   "metadata": {},
   "outputs": [
    {
     "name": "stdout",
     "output_type": "stream",
     "text": [
      "-----------------------------------\n",
      "| Extract Violet from RGB picture |\n",
      "-----------------------------------\n"
     ]
    },
    {
     "data": {
      "application/vnd.jupyter.widget-view+json": {
       "model_id": "2bc4b25f8ba94a47b2c1fd6f1fc25957",
       "version_major": 2,
       "version_minor": 0
      },
      "text/plain": [
       "  0%|          | 0/744 [00:00<?, ?it/s]"
      ]
     },
     "metadata": {},
     "output_type": "display_data"
    },
    {
     "name": "stdout",
     "output_type": "stream",
     "text": [
      "0.017919892849349497\n"
     ]
    }
   ],
   "source": [
    "main(r'C:\\Users\\Administrator\\Desktop\\color_analysis\\pameila.png', 94.0  ,200.2)"
   ]
  },
  {
   "cell_type": "markdown",
   "id": "512f2646",
   "metadata": {},
   "source": [
    "## 结果"
   ]
  },
  {
   "cell_type": "markdown",
   "id": "a3443754",
   "metadata": {},
   "source": [
    "从总的结果来看，与预期相反，该图片中使用的放松颜色（绿色 1.79%、蓝色 6.12%）远比唤起颜色（红色 0、橙色0.885%多）。由此可简单看出，\n",
    "运动在某些人群中一定程度可被看作一种放松方式。"
   ]
  },
  {
   "cell_type": "code",
   "execution_count": null,
   "id": "9ce47c57",
   "metadata": {},
   "outputs": [],
   "source": []
  }
 ],
 "metadata": {
  "kernelspec": {
   "display_name": "Python 3 (ipykernel)",
   "language": "python",
   "name": "python3"
  },
  "language_info": {
   "codemirror_mode": {
    "name": "ipython",
    "version": 3
   },
   "file_extension": ".py",
   "mimetype": "text/x-python",
   "name": "python",
   "nbconvert_exporter": "python",
   "pygments_lexer": "ipython3",
   "version": "3.9.13"
  },
  "toc": {
   "base_numbering": 1,
   "nav_menu": {},
   "number_sections": true,
   "sideBar": true,
   "skip_h1_title": false,
   "title_cell": "Table of Contents",
   "title_sidebar": "Contents",
   "toc_cell": false,
   "toc_position": {},
   "toc_section_display": true,
   "toc_window_display": false
  }
 },
 "nbformat": 4,
 "nbformat_minor": 5
}
