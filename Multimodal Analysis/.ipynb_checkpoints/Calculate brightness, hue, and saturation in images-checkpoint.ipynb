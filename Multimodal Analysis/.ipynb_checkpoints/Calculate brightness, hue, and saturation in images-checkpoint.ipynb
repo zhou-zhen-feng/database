{
 "cells": [
  {
   "cell_type": "markdown",
   "id": "7ca44ed9",
   "metadata": {},
   "source": [
    "## 计算视频的平均色相、纯度、亮度"
   ]
  },
  {
   "cell_type": "code",
   "execution_count": 14,
   "id": "58dcf99e",
   "metadata": {},
   "outputs": [],
   "source": [
    "import os\n",
    "import cv2\n",
    "import dlib\n",
    "import numpy as np\n",
    "import pandas as pd\n",
    "from tqdm.notebook import tqdm"
   ]
  },
  {
   "cell_type": "code",
   "execution_count": 8,
   "id": "533149ce",
   "metadata": {},
   "outputs": [],
   "source": [
    "def calculate_video_metrics(video_path):\n",
    "    cap = cv2.VideoCapture(video_path)\n",
    "    if not cap.isOpened():\n",
    "        print(f\"Error: Could not open video {video_path}.\")\n",
    "        return None\n",
    "\n",
    "    frame_count = 0\n",
    "    total_brightness = 0\n",
    "    total_saturation = 0\n",
    "    total_hue = 0\n",
    "\n",
    "    while True:\n",
    "        ret, frame = cap.read()\n",
    "        if not ret:\n",
    "            break\n",
    "\n",
    "        hsv_frame = cv2.cvtColor(frame, cv2.COLOR_BGR2HSV)\n",
    "        hue, saturation, brightness = cv2.split(hsv_frame)\n",
    "\n",
    "        total_brightness += np.mean(brightness)\n",
    "        total_saturation += np.mean(saturation)\n",
    "        total_hue += np.mean(hue)\n",
    "        frame_count += 1\n",
    "\n",
    "    cap.release()\n",
    "\n",
    "    avg_brightness = total_brightness / frame_count\n",
    "    avg_saturation = total_saturation / frame_count\n",
    "    avg_hue = total_hue / frame_count\n",
    "\n",
    "    return avg_brightness, avg_saturation, avg_hue\n",
    "\n",
    "\n",
    "def process_videos(video_directory):\n",
    "    results = []\n",
    "    for filename in tqdm(os.listdir(video_directory)):\n",
    "        if filename.endswith(\".mp4\"):\n",
    "            video_path = os.path.join(video_directory, filename)\n",
    "            metrics = calculate_video_metrics(video_path)\n",
    "            if metrics:\n",
    "                avg_brightness, avg_saturation, avg_hue = metrics\n",
    "                results.append((filename, avg_brightness, avg_saturation, avg_hue))\n",
    "\n",
    "    return results"
   ]
  },
  {
   "cell_type": "code",
   "execution_count": 9,
   "id": "c272adfb",
   "metadata": {},
   "outputs": [
    {
     "data": {
      "application/vnd.jupyter.widget-view+json": {
       "model_id": "c6753924e23f45d9bd9a06c0d19eb4e6",
       "version_major": 2,
       "version_minor": 0
      },
      "text/plain": [
       "  0%|          | 0/41 [00:00<?, ?it/s]"
      ]
     },
     "metadata": {},
     "output_type": "display_data"
    }
   ],
   "source": [
    "# 指定视频文件夹路径\n",
    "video_directory = r'D:\\运动建康类视频分析\\小样本数据\\video'\n",
    "\n",
    "# 处理所有视频\n",
    "results = process_videos(video_directory)"
   ]
  },
  {
   "cell_type": "code",
   "execution_count": 11,
   "id": "5fda050f",
   "metadata": {},
   "outputs": [
    {
     "data": {
      "text/plain": [
       "41"
      ]
     },
     "execution_count": 11,
     "metadata": {},
     "output_type": "execute_result"
    }
   ],
   "source": [
    "len(results)"
   ]
  },
  {
   "cell_type": "code",
   "execution_count": null,
   "id": "dba2f9b4",
   "metadata": {},
   "outputs": [],
   "source": []
  }
 ],
 "metadata": {
  "kernelspec": {
   "display_name": "Python 3 (ipykernel)",
   "language": "python",
   "name": "python3"
  },
  "language_info": {
   "codemirror_mode": {
    "name": "ipython",
    "version": 3
   },
   "file_extension": ".py",
   "mimetype": "text/x-python",
   "name": "python",
   "nbconvert_exporter": "python",
   "pygments_lexer": "ipython3",
   "version": "3.11.4"
  },
  "toc": {
   "base_numbering": 1,
   "nav_menu": {},
   "number_sections": true,
   "sideBar": true,
   "skip_h1_title": false,
   "title_cell": "Table of Contents",
   "title_sidebar": "Contents",
   "toc_cell": false,
   "toc_position": {},
   "toc_section_display": true,
   "toc_window_display": false
  }
 },
 "nbformat": 4,
 "nbformat_minor": 5
}
