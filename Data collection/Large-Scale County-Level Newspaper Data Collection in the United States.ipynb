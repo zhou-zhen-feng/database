{
 "cells": [
  {
   "cell_type": "code",
   "execution_count": 1,
   "id": "8b863fea",
   "metadata": {},
   "outputs": [],
   "source": [
    "from datasets import load_dataset\n",
    "from tqdm.notebook import tqdm\n",
    "import json\n",
    "import os\n",
    "import shutil\n",
    "import requests"
   ]
  },
  {
   "cell_type": "markdown",
   "id": "4984912e",
   "metadata": {},
   "source": [
    "#### 根据Hugging Face上的介绍运行加载脚本，当控制台中打印出原始数据“年份：下载链接”字典时，停止运行。\n",
    "##### 把原始数据字典复制粘贴到本地json文件中。\n",
    "#### 由于Hugging Face中介绍的load_dataset脚本，下载的是解析提取后的数据，并不是原始数据，所以不必运行完毕。"
   ]
  },
  {
   "cell_type": "code",
   "execution_count": 1,
   "id": "31b88135",
   "metadata": {},
   "outputs": [],
   "source": [
    "# 运行加载脚本\n",
    "dataset = load_dataset(\"dell-research-harvard/AmericanStories\",\"all_years\")"
   ]
  },
  {
   "cell_type": "markdown",
   "id": "b0041729",
   "metadata": {},
   "source": [
    "#### 根据存储的原始数据下载链接，抓取数据。"
   ]
  },
  {
   "cell_type": "code",
   "execution_count": 4,
   "id": "8e8465c9",
   "metadata": {},
   "outputs": [
    {
     "data": {
      "application/vnd.jupyter.widget-view+json": {
       "model_id": "c34dc3fbc20e404393604cf1b31e1277",
       "version_major": 2,
       "version_minor": 0
      },
      "text/plain": [
       "Downloading:   0%|          | 0/167 [00:00<?, ?it/s]"
      ]
     },
     "metadata": {},
     "output_type": "display_data"
    },
    {
     "name": "stdout",
     "output_type": "stream",
     "text": [
      "Downloaded D:\\ammericha stories_raw_data\\faro_1911.tar.gz\n",
      "Downloaded D:\\ammericha stories_raw_data\\faro_1912.tar.gz\n",
      "Downloaded D:\\ammericha stories_raw_data\\faro_1913.tar.gz\n",
      "Downloaded D:\\ammericha stories_raw_data\\faro_1914.tar.gz\n",
      "Downloaded D:\\ammericha stories_raw_data\\faro_1915.tar.gz\n",
      "Downloaded D:\\ammericha stories_raw_data\\faro_1916.tar.gz\n",
      "Downloaded D:\\ammericha stories_raw_data\\faro_1917.tar.gz\n",
      "Downloaded D:\\ammericha stories_raw_data\\faro_1918.tar.gz\n",
      "Downloaded D:\\ammericha stories_raw_data\\faro_1919.tar.gz\n",
      "Downloaded D:\\ammericha stories_raw_data\\faro_1920.tar.gz\n",
      "Downloaded D:\\ammericha stories_raw_data\\faro_1921.tar.gz\n",
      "Downloaded D:\\ammericha stories_raw_data\\faro_1922.tar.gz\n",
      "Downloaded D:\\ammericha stories_raw_data\\faro_1923.tar.gz\n",
      "Downloaded D:\\ammericha stories_raw_data\\faro_1924.tar.gz\n",
      "Downloaded D:\\ammericha stories_raw_data\\faro_1925.tar.gz\n",
      "Downloaded D:\\ammericha stories_raw_data\\faro_1926.tar.gz\n",
      "Downloaded D:\\ammericha stories_raw_data\\faro_1927.tar.gz\n",
      "Downloaded D:\\ammericha stories_raw_data\\faro_1928.tar.gz\n",
      "Downloaded D:\\ammericha stories_raw_data\\faro_1929.tar.gz\n",
      "Downloaded D:\\ammericha stories_raw_data\\faro_1930.tar.gz\n",
      "Downloaded D:\\ammericha stories_raw_data\\faro_1931.tar.gz\n",
      "Downloaded D:\\ammericha stories_raw_data\\faro_1932.tar.gz\n",
      "Downloaded D:\\ammericha stories_raw_data\\faro_1933.tar.gz\n",
      "Downloaded D:\\ammericha stories_raw_data\\faro_1934.tar.gz\n",
      "Downloaded D:\\ammericha stories_raw_data\\faro_1935.tar.gz\n",
      "Downloaded D:\\ammericha stories_raw_data\\faro_1936.tar.gz\n",
      "Downloaded D:\\ammericha stories_raw_data\\faro_1937.tar.gz\n",
      "Downloaded D:\\ammericha stories_raw_data\\faro_1938.tar.gz\n",
      "Downloaded D:\\ammericha stories_raw_data\\faro_1939.tar.gz\n",
      "Downloaded D:\\ammericha stories_raw_data\\faro_1940.tar.gz\n",
      "Downloaded D:\\ammericha stories_raw_data\\faro_1941.tar.gz\n",
      "Downloaded D:\\ammericha stories_raw_data\\faro_1942.tar.gz\n",
      "Downloaded D:\\ammericha stories_raw_data\\faro_1943.tar.gz\n",
      "Downloaded D:\\ammericha stories_raw_data\\faro_1944.tar.gz\n",
      "Downloaded D:\\ammericha stories_raw_data\\faro_1945.tar.gz\n",
      "Downloaded D:\\ammericha stories_raw_data\\faro_1946.tar.gz\n",
      "Downloaded D:\\ammericha stories_raw_data\\faro_1947.tar.gz\n",
      "Downloaded D:\\ammericha stories_raw_data\\faro_1948.tar.gz\n",
      "Downloaded D:\\ammericha stories_raw_data\\faro_1949.tar.gz\n",
      "Downloaded D:\\ammericha stories_raw_data\\faro_1950.tar.gz\n",
      "Downloaded D:\\ammericha stories_raw_data\\faro_1951.tar.gz\n",
      "Downloaded D:\\ammericha stories_raw_data\\faro_1952.tar.gz\n",
      "Downloaded D:\\ammericha stories_raw_data\\faro_1953.tar.gz\n",
      "Downloaded D:\\ammericha stories_raw_data\\faro_1954.tar.gz\n",
      "Downloaded D:\\ammericha stories_raw_data\\faro_1955.tar.gz\n",
      "Downloaded D:\\ammericha stories_raw_data\\faro_1956.tar.gz\n",
      "Downloaded D:\\ammericha stories_raw_data\\faro_1957.tar.gz\n",
      "Downloaded D:\\ammericha stories_raw_data\\faro_1958.tar.gz\n",
      "Downloaded D:\\ammericha stories_raw_data\\faro_1959.tar.gz\n",
      "Downloaded D:\\ammericha stories_raw_data\\faro_1960.tar.gz\n",
      "Downloaded D:\\ammericha stories_raw_data\\faro_1961.tar.gz\n",
      "Downloaded D:\\ammericha stories_raw_data\\faro_1962.tar.gz\n",
      "Downloaded D:\\ammericha stories_raw_data\\faro_1963.tar.gz\n"
     ]
    }
   ],
   "source": [
    "#打开存储链接的json文件\n",
    "with open(r\"D:\\American Stories data\\american story.json\",\"r\") as file:\n",
    "    json_content = file.read()  \n",
    "json_content = json_content.replace(\"'\", \"\\\"\")\n",
    "download_links = json.loads(json_content)\n",
    "#print(download_links)\n",
    "\n",
    "download_directory = r\"D:\\American Stories data\"\n",
    "os.makedirs(download_directory, exist_ok=True)\n",
    "\n",
    "# 根据链接下载文件\n",
    "for key, url in tqdm(download_links.items(),total=len(download_links), desc=\"Downloading\"):\n",
    "    # 转换键为整数\n",
    "    key = int(key)  \n",
    "    # 可能有中断情况，从哪一年中断就从哪继续。\n",
    "    if key >= 1911:\n",
    "        url = url.strip()\n",
    "        file_path = os.path.join(download_directory, f\"faro_{key}.tar.gz\")\n",
    "        response = requests.get(url, stream=True)\n",
    "\n",
    "        with open(file_path, 'wb') as file:\n",
    "            for chunk in response.iter_content(chunk_size=1024):\n",
    "                if chunk:\n",
    "                    file.write(chunk)\n",
    "\n",
    "        print(f\"Downloaded {file_path}\")"
   ]
  },
  {
   "cell_type": "code",
   "execution_count": null,
   "id": "a8600cd4",
   "metadata": {},
   "outputs": [],
   "source": []
  }
 ],
 "metadata": {
  "kernelspec": {
   "display_name": "Python 3 (ipykernel)",
   "language": "python",
   "name": "python3"
  },
  "language_info": {
   "codemirror_mode": {
    "name": "ipython",
    "version": 3
   },
   "file_extension": ".py",
   "mimetype": "text/x-python",
   "name": "python",
   "nbconvert_exporter": "python",
   "pygments_lexer": "ipython3",
   "version": "3.11.4"
  },
  "toc": {
   "base_numbering": 1,
   "nav_menu": {},
   "number_sections": true,
   "sideBar": true,
   "skip_h1_title": false,
   "title_cell": "Table of Contents",
   "title_sidebar": "Contents",
   "toc_cell": false,
   "toc_position": {},
   "toc_section_display": true,
   "toc_window_display": false
  }
 },
 "nbformat": 4,
 "nbformat_minor": 5
}
