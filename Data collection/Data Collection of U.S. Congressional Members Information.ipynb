{
 "cells": [
  {
   "cell_type": "markdown",
   "id": "fa03c4bf",
   "metadata": {},
   "source": [
    "### 1.爬取特定种族发言人名字"
   ]
  },
  {
   "cell_type": "code",
   "execution_count": 1,
   "id": "87dbfe6e",
   "metadata": {},
   "outputs": [],
   "source": [
    "import re\n",
    "import requests\n",
    "import pandas as pd\n",
    "from tqdm.notebook import tqdm\n",
    "from pyquery import PyQuery as pq"
   ]
  },
  {
   "cell_type": "code",
   "execution_count": 2,
   "id": "0b2a9261",
   "metadata": {},
   "outputs": [],
   "source": [
    "# Black Americans in Congress\n",
    "Black_congress_urls = []\n",
    "for i in range(1,119):\n",
    "    congress_url = f\"https://history.house.gov/People/Search?Term=Search&SearchIn=LastName&ShowNonMember=true&ShowNonMember=false&\\\n",
    "Office=&Leadership=&State=&Party=&ContinentalCongress=false&BlackAmericansInCongress=true&BlackAmericansInCongress=false&\\\n",
    "WomenInCongress=false&HispanicAmericansInCongress=false&AsianPacificAmericansInCongress=false&CongressNumberList={i}&CurrentPage=1&\\\n",
    "SortOrder=LastName&ResultType=Grid&PreviousSearch=Search%2CLastName%2C%2C%2C%2C%2CFalse%2CTrue%2CFalse%2C2%2CLastName\"\n",
    "    Black_congress_urls.append(congress_url)"
   ]
  },
  {
   "cell_type": "code",
   "execution_count": 3,
   "id": "ce912b30",
   "metadata": {},
   "outputs": [],
   "source": [
    "# Hispanic Americans in Congress\n",
    "Hispanic_congress_urls = []\n",
    "for i in range(1,119):\n",
    "    congress_url = f\"https://history.house.gov/People/Search?Term=Search&SearchIn=LastName&ShowNonMember=true&ShowNonMember=false&Office=&Leadership=&State=&\\\n",
    "    Party=&ContinentalCongress=false&BlackAmericansInCongress=false&WomenInCongress=false&HispanicAmericansInCongress=true&\\\n",
    "    HispanicAmericansInCongress=false&AsianPacificAmericansInCongress=false&CongressNumberList={i}&CurrentPage=1&\\\n",
    "    SortOrder=LastName&ResultType=Grid&PreviousSearch=Search%2CLastName%2C%2C%2C%2C%2CFalse%2CTrue%2CFalse%2C115%2CLastName\"\n",
    "    Hispanic_congress_urls.append(congress_url)"
   ]
  },
  {
   "cell_type": "code",
   "execution_count": 4,
   "id": "0abcf2d6",
   "metadata": {},
   "outputs": [],
   "source": [
    "# Asian Americans in Congress\n",
    "Asian_congress_urls = []\n",
    "for i in range(1,119):\n",
    "    congress_url = f\"https://history.house.gov/People/Search?Term=Search&SearchIn=LastName&ShowNonMember=true&ShowNonMember=false&Office=&Leadership=&State=&Party=&ContinentalCongress=false&BlackAmericansInCongress=false&\\\n",
    "    WomenInCongress=false&HispanicAmericansInCongress=false&AsianPacificAmericansInCongress=true&AsianPacificAmericansInCongress=false&CongressNumberList={i}&CurrentPage=1&\\\n",
    "    SortOrder=LastName&ResultType=Grid&PreviousSearch=Search%2CLastName%2C%2C%2C%2C%2CFalse%2CTrue%2CFalse%2C2%2CLastName\"\n",
    "    Asian_congress_urls.append(congress_url)\n"
   ]
  },
  {
   "cell_type": "code",
   "execution_count": 5,
   "id": "b74b3c7e",
   "metadata": {},
   "outputs": [],
   "source": [
    "## 把三个种族的链接汇总到一个字典里。\n",
    "dict_url = {}\n",
    "dict_url['Black'] = Black_congress_urls\n",
    "dict_url['Hispanic'] = Hispanic_congress_urls\n",
    "dict_url['Asian'] = Asian_congress_urls"
   ]
  },
  {
   "cell_type": "code",
   "execution_count": 1,
   "id": "337819c0",
   "metadata": {},
   "outputs": [],
   "source": [
    "# 爬取各种族发言人的名称并保存到excel中。{'届次'：{‘名称’：‘个人链接’,......}，......}\n",
    "ethnic_minority = ['Black','Hispanic','Asian']\n",
    "for ethnic in tqdm(ethnic_minority,desc = f\"Processing ethnic\"):\n",
    "    urls = dict_url[ethnic]\n",
    "    dict_name = {}\n",
    "    for url in tqdm(urls,desc = f\"Processing ethnic\"):\n",
    "        all_names = []\n",
    "        resp = requests.get(url)\n",
    "        resp.encoding = 'utf-8'\n",
    "        content = resp.text\n",
    "        query = pq(content)\n",
    "        display_content = query.find('div.inner').children('h2.displaying').text()\n",
    "        \n",
    "        if \"Displaying 0 results\" in display_content:\n",
    "            print('Sorry, nothing was found matching your search term(s).')\n",
    "            congress_number = re.search(r'CongressNumberList=(\\d+)', url).group(1)\n",
    "            dict_name[f\"{congress_number}\"] = all_names\n",
    "            continue\n",
    "            \n",
    "        else:\n",
    "            pager_elem =query(\"ul[id='pagerUpper']\").find('li a')\n",
    "            pager_urls = [pq(item).attr('href') for item in pager_elem]\n",
    "            \n",
    "            # 发现，如果页面大于2的话，最后一个页面链接是和前面第一页或第二页重合的。\n",
    "            if len(pager_urls)> 2:\n",
    "                pager_urls.pop()\n",
    "                for pager_url in pager_urls:\n",
    "                    url_single = \"https://history.house.gov\" + pager_url\n",
    "                    single_pager = requests.get(url_single)\n",
    "                    single_pager.encoding = 'utf-8'\n",
    "                    sig_pag_content = single_pager.text\n",
    "                    sig_query = pq(sig_pag_content)\n",
    "\n",
    "                    names_elem = sig_query(\"div[id='divResults']\").find('div.result')\n",
    "                    name_list = [pq(item).text() for item in names_elem]\n",
    "                    all_names.extend(name_list)\n",
    "            else:\n",
    "                for pager_url in pager_urls:\n",
    "                    url_single = \"https://history.house.gov\" + pager_url\n",
    "                    single_pager = requests.get(url_single)\n",
    "                    single_pager.encoding = 'utf-8'\n",
    "                    sig_pag_content = single_pager.text\n",
    "                    sig_query = pq(sig_pag_content)\n",
    "\n",
    "                    names_elem = sig_query(\"div[id='divResults']\").find('div.result')\n",
    "                    name_list = [pq(item).text() for item in names_elem]\n",
    "                    all_names.extend(name_list)\n",
    "                \n",
    "        congress_number = re.search(r'CongressNumberList=(\\d+)', url).group(1)          \n",
    "        dict_name[f\"{congress_number}\"] = all_names\n",
    "  \n",
    "    #print(dict_name)    \n",
    "    # 创建 DataFrame\n",
    "    df = pd.DataFrame(dict_name.items(), columns=['CongressNumber', 'Names'])\n",
    "    #df['Names'] = df['Names'].apply(lambda x: '|'.join(x))  \n",
    "\n",
    "    # 将 DataFrame 写入 CSV 文件\n",
    "    csv_file_path = f'C:\\\\Users\\\\lenovo\\\\Desktop\\\\yxk 少数族裔\\\\{ethnic}.csv'\n",
    "    df.to_csv(csv_file_path, index=False, encoding='utf-8')\n",
    "\n",
    "print('all done')"
   ]
  },
  {
   "cell_type": "code",
   "execution_count": null,
   "id": "aea97bee",
   "metadata": {},
   "outputs": [],
   "source": []
  }
 ],
 "metadata": {
  "kernelspec": {
   "display_name": "Python 3 (ipykernel)",
   "language": "python",
   "name": "python3"
  },
  "language_info": {
   "codemirror_mode": {
    "name": "ipython",
    "version": 3
   },
   "file_extension": ".py",
   "mimetype": "text/x-python",
   "name": "python",
   "nbconvert_exporter": "python",
   "pygments_lexer": "ipython3",
   "version": "3.11.4"
  },
  "toc": {
   "base_numbering": 1,
   "nav_menu": {},
   "number_sections": true,
   "sideBar": true,
   "skip_h1_title": false,
   "title_cell": "Table of Contents",
   "title_sidebar": "Contents",
   "toc_cell": false,
   "toc_position": {},
   "toc_section_display": true,
   "toc_window_display": false
  }
 },
 "nbformat": 4,
 "nbformat_minor": 5
}
