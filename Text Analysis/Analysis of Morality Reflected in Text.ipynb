{
 "cells": [
  {
   "cell_type": "markdown",
   "id": "b9672550",
   "metadata": {},
   "source": [
    "### 计算1850-1875年关于黑人报道的道德分数。"
   ]
  },
  {
   "cell_type": "code",
   "execution_count": 1,
   "id": "55c02716",
   "metadata": {},
   "outputs": [],
   "source": [
    "import os\n",
    "import spacy\n",
    "import warnings\n",
    "import pandas as pd\n",
    "import moralstrength\n",
    "from tqdm.notebook import tqdm\n",
    "from moralstrength import lexicon_use\n",
    "from moralstrength.moralstrength import estimate_morals"
   ]
  },
  {
   "cell_type": "code",
   "execution_count": 2,
   "id": "2801418e",
   "metadata": {},
   "outputs": [],
   "source": [
    "# 忽略特定类型的警告\n",
    "warnings.filterwarnings(\"ignore\", category=UserWarning, message=\"[W108]\")\n",
    "warnings.simplefilter(\"ignore\")"
   ]
  },
  {
   "cell_type": "code",
   "execution_count": 8,
   "id": "79dcd513",
   "metadata": {},
   "outputs": [
    {
     "name": "stdout",
     "output_type": "stream",
     "text": [
      "['111', '111']\n"
     ]
    },
    {
     "data": {
      "text/html": [
       "<div>\n",
       "<style scoped>\n",
       "    .dataframe tbody tr th:only-of-type {\n",
       "        vertical-align: middle;\n",
       "    }\n",
       "\n",
       "    .dataframe tbody tr th {\n",
       "        vertical-align: top;\n",
       "    }\n",
       "\n",
       "    .dataframe thead th {\n",
       "        text-align: right;\n",
       "    }\n",
       "</style>\n",
       "<table border=\"1\" class=\"dataframe\">\n",
       "  <thead>\n",
       "    <tr style=\"text-align: right;\">\n",
       "      <th></th>\n",
       "      <th>care</th>\n",
       "      <th>fairness</th>\n",
       "      <th>loyalty</th>\n",
       "      <th>authority</th>\n",
       "      <th>purity</th>\n",
       "    </tr>\n",
       "  </thead>\n",
       "  <tbody>\n",
       "    <tr>\n",
       "      <th>0</th>\n",
       "      <td>NaN</td>\n",
       "      <td>NaN</td>\n",
       "      <td>NaN</td>\n",
       "      <td>NaN</td>\n",
       "      <td>NaN</td>\n",
       "    </tr>\n",
       "    <tr>\n",
       "      <th>1</th>\n",
       "      <td>NaN</td>\n",
       "      <td>NaN</td>\n",
       "      <td>NaN</td>\n",
       "      <td>NaN</td>\n",
       "      <td>NaN</td>\n",
       "    </tr>\n",
       "  </tbody>\n",
       "</table>\n",
       "</div>"
      ],
      "text/plain": [
       "   care  fairness  loyalty  authority  purity\n",
       "0   NaN       NaN      NaN        NaN     NaN\n",
       "1   NaN       NaN      NaN        NaN     NaN"
      ]
     },
     "execution_count": 8,
     "metadata": {},
     "output_type": "execute_result"
    }
   ],
   "source": [
    "## 预测文本的道德\n",
    "texts = '111\\n111'\n",
    "\n",
    "texts = texts.split('\\n')\n",
    "print(texts)\n",
    "\n",
    "result = estimate_morals(texts, process=True) # set to false if text is alredy pre-processed\n",
    "result"
   ]
  },
  {
   "cell_type": "code",
   "execution_count": 6,
   "id": "f82b74be",
   "metadata": {},
   "outputs": [],
   "source": [
    "# def file_paths():\n",
    "#     folder = r\"D:\\American Stories\\the civil war\\about_black_article\"\n",
    "#     file_paths = []\n",
    "#     for name in os.listdir(folder):\n",
    "#         year_number = int(name.split(\"_\")[1])\n",
    "#         if 1850<= year_number <= 1875:\n",
    "#             file_path = os.path.join(folder,name)\n",
    "#             file_paths.append(file_path)\n",
    "#     return file_paths\n",
    "\n",
    "\n",
    "def calculate_moral(file_path):\n",
    "    df = pd.read_csv(file_path)\n",
    "    \n",
    "    # 把有缺失值的填写为空字符串\n",
    "    df['filtered_text'] = df['filtered_text'].fillna('')\n",
    "\n",
    "    # 给数据框进程添加进度条\n",
    "    tqdm.pandas()\n",
    "    \n",
    "    df_moral = df['filtered_text'].progress_apply(lambda x: estimate_morals(x.split('\\n'),process=True))\n",
    "    df_moral_df = pd.concat(df_moral.values, ignore_index=True)\n",
    "    #print(df_moral)\n",
    "    #df_moral = pd.concat([dff for dff in df_moral], axis=0)\n",
    "\n",
    "    #df = pd.concat([df,df_moral],axis=1)\n",
    "    return df_moral_df\n",
    "\n",
    "\n",
    "\n",
    "# def main(fist_folder):\n",
    "#     paths = file_paths()\n",
    "#     for file_path in tqdm(paths):\n",
    "#         for file_name in tqdm(os.listdir(file_path)):\n",
    "#             # file_month = file_name.split('.')[0].split('-')[1]\n",
    "#             # if 10 <=int(file_month)<= 12:\n",
    "#             df_moral = calculate_moral(file_path,file_name)\n",
    "#             moral_folder = os.path.join(fist_folder,file_path.split(\"\\\\\")[3])\n",
    "#             os.makedirs(moral_folder,exist_ok=True)\n",
    "#             moral_file = os.path.join(moral_folder,file_name)\n",
    "#             df_moral.to_csv(moral_file, index=False)"
   ]
  },
  {
   "cell_type": "code",
   "execution_count": 7,
   "id": "0462ee6b",
   "metadata": {},
   "outputs": [
    {
     "data": {
      "application/vnd.jupyter.widget-view+json": {
       "model_id": "86009a55dbc74c2d8a12fb8437cab019",
       "version_major": 2,
       "version_minor": 0
      },
      "text/plain": [
       "  0%|          | 0/270550 [00:00<?, ?it/s]"
      ]
     },
     "metadata": {},
     "output_type": "display_data"
    }
   ],
   "source": [
    "file_path = r'D:\\zhenfeng zhou\\The Civil War\\data\\only_black_news.csv'\n",
    "df_moral_df = calculate_moral(file_path)"
   ]
  },
  {
   "cell_type": "code",
   "execution_count": 8,
   "id": "9fbcd792-81f7-4588-bbc5-6dc99a894ef0",
   "metadata": {},
   "outputs": [],
   "source": [
    "# 写入\n",
    "df = pd.read_csv(r'D:\\zhenfeng zhou\\The Civil War\\data\\only_black_news.csv')\n",
    "df = pd.concat([df,df_moral_df],axis = 1)\n",
    "df.to_csv(r'D:\\zhenfeng zhou\\The Civil War\\data\\only_black_news_moral.csv',index = False)"
   ]
  },
  {
   "cell_type": "code",
   "execution_count": null,
   "id": "fcc1baea-5fed-4b36-9a6c-c38d63cc348b",
   "metadata": {},
   "outputs": [],
   "source": []
  }
 ],
 "metadata": {
  "kernelspec": {
   "display_name": "Python (civil)",
   "language": "python",
   "name": "civil"
  },
  "language_info": {
   "codemirror_mode": {
    "name": "ipython",
    "version": 3
   },
   "file_extension": ".py",
   "mimetype": "text/x-python",
   "name": "python",
   "nbconvert_exporter": "python",
   "pygments_lexer": "ipython3",
   "version": "3.11.7"
  },
  "toc": {
   "base_numbering": 1,
   "nav_menu": {},
   "number_sections": true,
   "sideBar": true,
   "skip_h1_title": false,
   "title_cell": "Table of Contents",
   "title_sidebar": "Contents",
   "toc_cell": false,
   "toc_position": {},
   "toc_section_display": true,
   "toc_window_display": false
  }
 },
 "nbformat": 4,
 "nbformat_minor": 5
}
