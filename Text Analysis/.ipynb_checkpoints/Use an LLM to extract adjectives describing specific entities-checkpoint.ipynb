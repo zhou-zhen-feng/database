{
 "cells": [
  {
   "cell_type": "markdown",
   "id": "383ed002",
   "metadata": {},
   "source": [
    "### 把1850——1875年的报纸报道中关于negro等的具体句子提取出来"
   ]
  },
  {
   "cell_type": "code",
   "execution_count": 2,
   "id": "b1d68d5e",
   "metadata": {},
   "outputs": [],
   "source": [
    "import spacy\n",
    "import pandas as pd\n",
    "from tqdm.notebook import tqdm"
   ]
  },
  {
   "cell_type": "code",
   "execution_count": 3,
   "id": "38004f88",
   "metadata": {},
   "outputs": [],
   "source": [
    "# 加载预训练的 spaCy 模型\n",
    "nlp = spacy.load(\"en_core_web_sm\")"
   ]
  },
  {
   "cell_type": "code",
   "execution_count": 19,
   "id": "48c65f20",
   "metadata": {},
   "outputs": [],
   "source": [
    "# 处理一篇报道的代码\n",
    "def contains_negro(text):\n",
    "    doc = nlp(text)\n",
    "    extracted_sentences = []\n",
    "    target_words = [\"blacks\", \"african\", \"africans\", \"negro\", \"negros\", \"negroes\", \n",
    "                \"negroid\", \"ethiopian\", \"ethiopians\", \"nigger\", \"niggers\", \"nigga\", \"niggas\"]\n",
    "    \n",
    "    # 只提取包含列表词的句子\n",
    "    for sent in doc.sents:\n",
    "        if any(word in sent.text.lower() for word in target_words):\n",
    "            extracted_sentences.append(sent.text)\n",
    "    # 组合成大字符串\n",
    "    combined_text = \" \".join(extracted_sentences)\n",
    "    return combined_text"
   ]
  },
  {
   "cell_type": "code",
   "execution_count": 9,
   "id": "f1499a39",
   "metadata": {},
   "outputs": [
    {
     "data": {
      "text/html": [
       "<div>\n",
       "<style scoped>\n",
       "    .dataframe tbody tr th:only-of-type {\n",
       "        vertical-align: middle;\n",
       "    }\n",
       "\n",
       "    .dataframe tbody tr th {\n",
       "        vertical-align: top;\n",
       "    }\n",
       "\n",
       "    .dataframe thead th {\n",
       "        text-align: right;\n",
       "    }\n",
       "</style>\n",
       "<table border=\"1\" class=\"dataframe\">\n",
       "  <thead>\n",
       "    <tr style=\"text-align: right;\">\n",
       "      <th></th>\n",
       "      <th>Unnamed: 0</th>\n",
       "      <th>Article_id</th>\n",
       "      <th>Date</th>\n",
       "      <th>Page_number</th>\n",
       "      <th>Newspaper_name</th>\n",
       "      <th>Headline</th>\n",
       "      <th>Author</th>\n",
       "      <th>Article_body</th>\n",
       "      <th>seg_article_body</th>\n",
       "      <th>contains_keywords</th>\n",
       "      <th>fips</th>\n",
       "      <th>county</th>\n",
       "      <th>state</th>\n",
       "    </tr>\n",
       "  </thead>\n",
       "  <tbody>\n",
       "    <tr>\n",
       "      <th>0</th>\n",
       "      <td>0</td>\n",
       "      <td>2_1850-01-01_p1_sn82007022_00393342894_1850010...</td>\n",
       "      <td>1850-01-01</td>\n",
       "      <td>p1</td>\n",
       "      <td>The Arkansas banner.</td>\n",
       "      <td>slavery Movement in ceoryia.</td>\n",
       "      <td>NaN</td>\n",
       "      <td>The House of Representatives of Georgia hay. p...</td>\n",
       "      <td>the house of representatives of georgia hay pa...</td>\n",
       "      <td>True</td>\n",
       "      <td>5119.0</td>\n",
       "      <td>pulaski</td>\n",
       "      <td>arkansas</td>\n",
       "    </tr>\n",
       "    <tr>\n",
       "      <th>1</th>\n",
       "      <td>1</td>\n",
       "      <td>24_1850-01-01_p1_sn82015378_00295872366_185001...</td>\n",
       "      <td>1850-01-01</td>\n",
       "      <td>p1</td>\n",
       "      <td>NaN</td>\n",
       "      <td>NaN</td>\n",
       "      <td>NaN</td>\n",
       "      <td>THE ABoEIrIoNrsTs.-Th Abolitioaisls afomuch mo...</td>\n",
       "      <td>the aboeirionrststhabolitioa isls afo much mov...</td>\n",
       "      <td>True</td>\n",
       "      <td>22071.0</td>\n",
       "      <td>orleans</td>\n",
       "      <td>louisiana</td>\n",
       "    </tr>\n",
       "    <tr>\n",
       "      <th>2</th>\n",
       "      <td>2</td>\n",
       "      <td>11_1850-01-01_p1_sn83030313_00271743014_185001...</td>\n",
       "      <td>1850-01-01</td>\n",
       "      <td>p1</td>\n",
       "      <td>NaN</td>\n",
       "      <td>NaN</td>\n",
       "      <td>NaN</td>\n",
       "      <td>lb-Firs at Hempstsad, L. Ii four persons burne...</td>\n",
       "      <td>lbfirsathempstsadlii four persons burned to hh...</td>\n",
       "      <td>True</td>\n",
       "      <td>36061.0</td>\n",
       "      <td>new york</td>\n",
       "      <td>new york</td>\n",
       "    </tr>\n",
       "  </tbody>\n",
       "</table>\n",
       "</div>"
      ],
      "text/plain": [
       "   Unnamed: 0                                         Article_id        Date  \\\n",
       "0           0  2_1850-01-01_p1_sn82007022_00393342894_1850010...  1850-01-01   \n",
       "1           1  24_1850-01-01_p1_sn82015378_00295872366_185001...  1850-01-01   \n",
       "2           2  11_1850-01-01_p1_sn83030313_00271743014_185001...  1850-01-01   \n",
       "\n",
       "  Page_number        Newspaper_name                      Headline Author  \\\n",
       "0          p1  The Arkansas banner.  slavery Movement in ceoryia.    NaN   \n",
       "1          p1                   NaN                           NaN    NaN   \n",
       "2          p1                   NaN                           NaN    NaN   \n",
       "\n",
       "                                        Article_body  \\\n",
       "0  The House of Representatives of Georgia hay. p...   \n",
       "1  THE ABoEIrIoNrsTs.-Th Abolitioaisls afomuch mo...   \n",
       "2  lb-Firs at Hempstsad, L. Ii four persons burne...   \n",
       "\n",
       "                                    seg_article_body  contains_keywords  \\\n",
       "0  the house of representatives of georgia hay pa...               True   \n",
       "1  the aboeirionrststhabolitioa isls afo much mov...               True   \n",
       "2  lbfirsathempstsadlii four persons burned to hh...               True   \n",
       "\n",
       "      fips    county      state  \n",
       "0   5119.0   pulaski   arkansas  \n",
       "1  22071.0   orleans  louisiana  \n",
       "2  36061.0  new york   new york  "
      ]
     },
     "execution_count": 9,
     "metadata": {},
     "output_type": "execute_result"
    }
   ],
   "source": [
    "# 打开数据\n",
    "df = pd.read_csv(r\"D:\\American Stories\\the civil war\\data\\black.news_geo.csv\") \n",
    "df.head(3)"
   ]
  },
  {
   "cell_type": "code",
   "execution_count": 10,
   "id": "8b0faf77",
   "metadata": {},
   "outputs": [],
   "source": [
    "# 删除“contains_keywords\"列\n",
    "df = df.drop('contains_keywords', axis=1)"
   ]
  },
  {
   "cell_type": "code",
   "execution_count": 20,
   "id": "62583a7f",
   "metadata": {},
   "outputs": [
    {
     "data": {
      "application/vnd.jupyter.widget-view+json": {
       "model_id": "38b6e5d2c9464acdab3ab3b4331cb08b",
       "version_major": 2,
       "version_minor": 0
      },
      "text/plain": [
       "  0%|          | 0/270550 [00:00<?, ?it/s]"
      ]
     },
     "metadata": {},
     "output_type": "display_data"
    }
   ],
   "source": [
    "# 在 Article_body 列上逐个应用 contains_negro 函数，显示 tqdm 进度条\n",
    "tqdm.pandas()\n",
    "\n",
    "df['filtered_text'] = df['Article_body'].progress_apply(contains_negro)"
   ]
  },
  {
   "cell_type": "code",
   "execution_count": 22,
   "id": "97777f3a",
   "metadata": {},
   "outputs": [],
   "source": [
    "df.to_csv(r'D:\\American Stories\\the civil war\\data\\only_black_news.csv')"
   ]
  },
  {
   "cell_type": "code",
   "execution_count": 1,
   "id": "b510343b",
   "metadata": {},
   "outputs": [],
   "source": [
    "# list(df[\"filtered_text\"])[:20]"
   ]
  },
  {
   "cell_type": "markdown",
   "id": "ae9519e1",
   "metadata": {},
   "source": [
    "### 提取出每个报道中关于黑人的形容词"
   ]
  },
  {
   "cell_type": "code",
   "execution_count": 1,
   "id": "392c6b9b",
   "metadata": {},
   "outputs": [
    {
     "data": {
      "text/plain": [
       "'这个文本的内容确实有关于黑人群体的内容。形容“negro”的形容词或副词包括：\\n\\n1. systemic (systemic discrimination)\\n2. resilient\\n3. strong\\n4. deep (deep cultural heritage)\\n5. warm (warm hospitality)\\n\\n这些词汇都用来描述黑人群体的经历和文化特征。'"
      ]
     },
     "execution_count": 1,
     "metadata": {},
     "output_type": "execute_result"
    }
   ],
   "source": [
    "from openai import OpenAI\n",
    "\n",
    "client = OpenAI(\n",
    "    api_key='你的api_key',\n",
    ")\n",
    "text = \"\"\"\n",
    "African Americans have faced systemic discrimination and are often described as resilient and strong in the face of adversity. The blacks in the community are known for their deep cultural heritage and warm hospitality.\n",
    "\"\"\"\n",
    "\n",
    "def chat_gpt(text):\n",
    "    response = client.chat.completions.create(\n",
    "        model=\"gpt-4o-mini\",\n",
    "        messages=[\n",
    "            {\n",
    "                \"role\": \"user\",\n",
    "                \"content\": f\"\"\"在{text}文本中，首先判断这个文本的内容是否有关于黑人群体的内容。其次，如果有关于黑人群体的内容 \n",
    "                ,帮助我找出形容‘negro'的形容词或副词，不是’negro'本身。如果没有就返回‘无’ \"\"\"\n",
    "            }\n",
    "        ]\n",
    "    )\n",
    "    return response.choices[0].message.content.strip()\n",
    "\n",
    "\n",
    "\n",
    "chat_gpt(text)"
   ]
  },
  {
   "cell_type": "code",
   "execution_count": null,
   "id": "809f6923",
   "metadata": {},
   "outputs": [],
   "source": []
  }
 ],
 "metadata": {
  "kernelspec": {
   "display_name": "Python 3 (ipykernel)",
   "language": "python",
   "name": "python3"
  },
  "language_info": {
   "codemirror_mode": {
    "name": "ipython",
    "version": 3
   },
   "file_extension": ".py",
   "mimetype": "text/x-python",
   "name": "python",
   "nbconvert_exporter": "python",
   "pygments_lexer": "ipython3",
   "version": "3.11.4"
  },
  "toc": {
   "base_numbering": 1,
   "nav_menu": {},
   "number_sections": true,
   "sideBar": true,
   "skip_h1_title": false,
   "title_cell": "Table of Contents",
   "title_sidebar": "Contents",
   "toc_cell": false,
   "toc_position": {},
   "toc_section_display": true,
   "toc_window_display": false
  }
 },
 "nbformat": 4,
 "nbformat_minor": 5
}
