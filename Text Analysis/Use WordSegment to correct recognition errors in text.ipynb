{
 "cells": [
  {
   "cell_type": "markdown",
   "id": "0b99f6ff",
   "metadata": {},
   "source": [
    "## 清洗数据，解决连接词分割的问题"
   ]
  },
  {
   "cell_type": "markdown",
   "id": "e348d332-54b8-4b65-9e67-c31edea3915a",
   "metadata": {},
   "source": [
    "#### 说明\n",
    "##### worker_functions.ipynb文件和此文件要放在同一项目文件夹内。\n",
    "##### 进程数要视自己计算机的cpu数量而定，超过可能会跑爆cpu."
   ]
  },
  {
   "cell_type": "code",
   "execution_count": 4,
   "id": "2cdbee3b",
   "metadata": {
    "scrolled": true
   },
   "outputs": [],
   "source": [
    "import os\n",
    "import sys\n",
    "import json\n",
    "import wordninja\n",
    "import traceback\n",
    "import wordsegment\n",
    "import pandas as pd\n",
    "import multiprocessing\n",
    "from tqdm import tqdm\n",
    "from wordsegment import load, segment\n",
    "from ipynb.fs.full.worker_functions import initializer, parallel_segment,parallel_segment_with_progress"
   ]
  },
  {
   "cell_type": "markdown",
   "id": "37586f21",
   "metadata": {},
   "source": [
    "### 测试解决没有空格分隔的英文文本方法哪一个好用"
   ]
  },
  {
   "cell_type": "code",
   "execution_count": 5,
   "id": "b5c62340",
   "metadata": {},
   "outputs": [
    {
     "data": {
      "text/plain": [
       "'Inthestartingpointofthejourney,thereweremanyunexpectedturnsandtwists.Themaincharactersettledinthecountrysidewheretheskywasblueandthegrasswasgreenthroughouttheyear.Eventhoughtheyfacednumerouschallenges,theyremainedoptimisticandperseveredthroughthickandthin.Friendshipandloyaltywerethecornerstonesoftheirrelationships.\\n\\nInthequietvillage,therewerestoriesofancienttimeswherelegendsofthepastwerebroughttolifeagainandagain.Eachstorywasafascinatingtaleofadventureandmysterythatcaptivatedtheyoungandoldalike.Thevillagersgatheredaroundthecampfireeachnighttotelltheseancienttales,creatingabondthatwaseverlasting.\\n\\nOneparticularlyinterestingstorywasaboutthebravewarriorwhosetoutonamissiontosavehishomelandfrominvaders.Hisjourneytookhimthroughdarkforests,overhighmountains,andacrosstreacherousrivers.Hefacedmanydangersbutwithcourageanddetermination,heovercameallobstacles.\\n\\nAshetravelled,hemetkindstrangerswhoofferedhimguidanceandsupport.Theiradviceprovedinvaluableashefacedhismostchallengingtaskyet\\n.Thepathwasfraughtwithperil,fromtrapsandsnareswithin,topuzzlesandriddlesthatrequiredimmensewitandwisdom.\\n\\nWiththeartifactinhand,hereturnedhomeaverydifferentman,changedbytheexperienceshehadenduredandthelessonshehadlearned.Hispeoplewelcomedhimwithopenarms,celebratinghissuccessandthepeacehebroughtbacktotheirland.\\n\\nThisadventurewasjustthebeginningofhislegend,forhewasdestinedtoembarkonmanymorejourneys,eachfilledwithitsownuniquestoriesandmemorableencounters.'"
      ]
     },
     "execution_count": 5,
     "metadata": {},
     "output_type": "execute_result"
    }
   ],
   "source": [
    "# 导入测试数据\n",
    "test_path = r'D:\\zhenfeng zhou\\The Civil War\\analyse_code\\测试解决连接词包的效能.txt'\n",
    "with open(test_path,'r',encoding = 'utf-8') as file:\n",
    "    test = file.read()\n",
    "test"
   ]
  },
  {
   "cell_type": "markdown",
   "id": "89832625",
   "metadata": {},
   "source": [
    "##### wordninja（处理连在一起的英文单词分割的工具）"
   ]
  },
  {
   "cell_type": "code",
   "execution_count": 9,
   "id": "995a707c",
   "metadata": {},
   "outputs": [
    {
     "data": {
      "text/plain": [
       "'In the starting point of the journey there were many unexpected turns and twists The main character settled in the countryside where the sky was blue and the grass was green throughout the year Eventhough they faced numerous challenges they remained optimistic and persevered through thick and thin Friendship and loyalty were the cornerstones of their relationships In the quiet village there were stories of ancient times where legends of the past were brought to life again and again Each story was a fascinating tale of adventure and mystery that captivated the young and old a like The villagers gathered around the campfire each night to tell these ancient tales creating a bond that was everlasting One particularly interesting story was about the brave warrior who set out on a mission to save his homeland from invaders His journey took him through dark forests over high mountains and across treacherous rivers He faced many dangers but with courage and determination he overcame all obstacles As he travelled he met kind strangers who offered him guidance and support Their advice proved invaluable as he faced his most challenging task yet The path was fraught with peril from traps and snares within to puzzles and riddles that required immense wit and wisdom With the artifact in hand he returned home a very different man changed by the experiences he had endured and the lessons he had learned His people welcomed him with open arms celebrating his success and the peace he brought back to their land This adventure was just the beginning of his legend for he was destined to embark on many more journeys each filled with its own unique stories and memorable encounters'"
      ]
     },
     "execution_count": 9,
     "metadata": {},
     "output_type": "execute_result"
    }
   ],
   "source": [
    "split_words = wordninja.split(test)\n",
    "\n",
    "text = ' '.join(split_words)\n",
    "\n",
    "text"
   ]
  },
  {
   "cell_type": "markdown",
   "id": "c3d9b407",
   "metadata": {},
   "source": [
    "#####  wordsegment（用于处理和分割未分词的英语文本）"
   ]
  },
  {
   "cell_type": "code",
   "execution_count": 7,
   "id": "7f7ebfb5",
   "metadata": {},
   "outputs": [
    {
     "data": {
      "text/plain": [
       "'in the starting point of the journey there were many unexpected turns and twists the main character settled in the countryside where the sky was blue and the grass was green throughout the year even though they faced numerous challenges they remained optimistic and persevered through thick and thin friendship and loyalty were the cornerstones of their relationships in the quiet village there were stories of ancient times where legends of the past were brought to life again and again each story was a fascinating tale of adventure and mystery that captivated the young and old alike the villagers gathered around the campfire each night to tell these ancient tales creating a bond that was everlasting one particularly interesting story was about the brave warrior who set out on a mission to save his homeland from invaders his journey took him through dark forests over high mountains and across treacherous rivers he faced many dangers but with courage and determination he overcame all obstacles as he travelled he met kind strangers who offered him guidance and support their advice proved invaluable as he faced his most challenging task yet the path was fraught with peril from traps and snares within to puzzles and riddles that required immense wit and wisdom with the artifact in hand he returned home a very different man changed by the experience she had endured and the lessons he had learned his people welcomed him with open arms celebrating his success and the peace he brought back to their land this adventure was just the beginning of his legend for he was destined to embark on many more journeys each filled with its own unique stories and memorable encounters'"
      ]
     },
     "execution_count": 7,
     "metadata": {},
     "output_type": "execute_result"
    }
   ],
   "source": [
    "load()\n",
    "\n",
    "text = ' '.join(segment(test))\n",
    "\n",
    "text"
   ]
  },
  {
   "cell_type": "markdown",
   "id": "6abdd4a0",
   "metadata": {},
   "source": [
    "#### 大语言模型（经测试，此种方法需要词性标注等步骤，较麻烦。）"
   ]
  },
  {
   "cell_type": "markdown",
   "id": "cef50fa0",
   "metadata": {},
   "source": [
    "#### 结论，经过chatgpt4的评估发现\n",
    "wordninja 运行快速。\n",
    "wordsegment 分割更加准确,能达到95%以上的准确率。"
   ]
  },
  {
   "cell_type": "markdown",
   "id": "5321f6ad",
   "metadata": {},
   "source": [
    "### 选择使用wordsegment进行单词分割"
   ]
  },
  {
   "cell_type": "code",
   "execution_count": 2,
   "id": "bba39063-4c3b-412d-aadf-0be9ed7fd34f",
   "metadata": {},
   "outputs": [],
   "source": [
    "def process_data(id_content, max_workers):\n",
    "    final_result = []\n",
    "    try:\n",
    "        manager = multiprocessing.Manager()\n",
    "        progress_queue = manager.Queue()\n",
    "        with multiprocessing.Pool(processes=max_workers, initializer=initializer) as pool:\n",
    "            # 使用 pool.apply_async 提交任务，同时传入 progress_queue\n",
    "            results = [pool.apply_async(parallel_segment_with_progress, args=(id,content, progress_queue)) for id,content in id_content]\n",
    "            \n",
    "             # 在主进程中显示进度条，更新队列中的项目\n",
    "            with tqdm(total=len(id_content)) as pbar:\n",
    "                for _ in range(len(id_content)):\n",
    "                    progress_queue.get()\n",
    "                    pbar.update(1)\n",
    "\n",
    "            pool.close()\n",
    "            pool.join()\n",
    "\n",
    "        # 从 AsyncResult 对象中获取实际结果\n",
    "        for res in tqdm(results):\n",
    "            final_result.append(res.get())\n",
    "            \n",
    "        return final_result\n",
    "                      \n",
    "    except Exception as e:\n",
    "        print(f\"Error in process_data: {e}\")\n",
    "        print(traceback.format_exc())\n",
    "        sys.exit(1) "
   ]
  },
  {
   "cell_type": "code",
   "execution_count": 3,
   "id": "4d2c088c",
   "metadata": {},
   "outputs": [
    {
     "name": "stderr",
     "output_type": "stream",
     "text": [
      "100%|██████████████████████████████████████████████████████████████████| 11122491/11122491 [214:59:19<00:00, 14.37it/s]\n",
      "100%|█████████████████████████████████████████████████████████████████▊| 11080573/11122491 [00:31<00:00, 529350.32it/s]"
     ]
    }
   ],
   "source": [
    "if __name__ == '__main__':\n",
    "    try:\n",
    "        # 加载数据\n",
    "        file_path = r'D:\\zhenfeng zhou\\The Civil War\\data\\1850_1875_all_article.csv'\n",
    "        df = pd.read_csv(file_path)\n",
    "        df['Article_body'] = df['Article_body'].astype(str)\n",
    "\n",
    "        id_content = list(zip(df['Article_id'], df['Article_body']))\n",
    "        max_workers = 30\n",
    "\n",
    "        final_result = process_data(id_content, max_workers) \n",
    "        df_seg = pd.DataFrame(final_result, columns=['Article_id', 'seg_article_body'])\n",
    "        df_seg.to_csv(r'D:\\zhenfeng zhou\\The Civil War\\data\\1850_1875_all_article_seg.csv',index = False)\n",
    "        \n",
    "    except Exception as e:\n",
    "        print(e)\n",
    "        print(traceback.format_exc())\n",
    "        sys.exit(1) "
   ]
  },
  {
   "cell_type": "code",
   "execution_count": null,
   "id": "35f9d323-6a55-44f2-82e7-26a0d766a664",
   "metadata": {},
   "outputs": [],
   "source": []
  },
  {
   "cell_type": "code",
   "execution_count": null,
   "id": "bed1002b-02c4-46ee-859f-201e913df4ed",
   "metadata": {},
   "outputs": [],
   "source": []
  }
 ],
 "metadata": {
  "kernelspec": {
   "display_name": "Python (civil)",
   "language": "python",
   "name": "civil"
  },
  "language_info": {
   "codemirror_mode": {
    "name": "ipython",
    "version": 3
   },
   "file_extension": ".py",
   "mimetype": "text/x-python",
   "name": "python",
   "nbconvert_exporter": "python",
   "pygments_lexer": "ipython3",
   "version": "3.11.7"
  },
  "toc": {
   "base_numbering": 1,
   "nav_menu": {},
   "number_sections": true,
   "sideBar": true,
   "skip_h1_title": false,
   "title_cell": "Table of Contents",
   "title_sidebar": "Contents",
   "toc_cell": false,
   "toc_position": {},
   "toc_section_display": true,
   "toc_window_display": false
  }
 },
 "nbformat": 4,
 "nbformat_minor": 5
}
