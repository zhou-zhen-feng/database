{
 "cells": [
  {
   "cell_type": "code",
   "execution_count": 6,
   "id": "39e0b295",
   "metadata": {
    "ExecuteTime": {
     "end_time": "2024-05-09T15:55:35.447874Z",
     "start_time": "2024-05-09T15:55:33.268459Z"
    }
   },
   "outputs": [],
   "source": [
    "import os\n",
    "import time\n",
    "import threading\n",
    "import pandas as pd\n",
    "from functools import partial\n",
    "from tqdm import tqdm\n",
    "from multiprocessing import Pool\n",
    "from nltk.tokenize import word_tokenize\n",
    "from concurrent.futures import ThreadPoolExecutor "
   ]
  },
  {
   "cell_type": "code",
   "execution_count": 2,
   "id": "e8e4d61c",
   "metadata": {
    "ExecuteTime": {
     "end_time": "2024-05-09T15:55:38.583954Z",
     "start_time": "2024-05-09T15:55:38.567355Z"
    }
   },
   "outputs": [],
   "source": [
    "# 构建情感词列表\n",
    "def build_emtion_list(lexion_content):\n",
    "    Positive, Negative, Anger, Anticipation, Disgust, Fear, Joy, Sadness, Surprise, Trust = [[] for _ in range(10)]\n",
    "\n",
    "    # 遍历每一行，将情感值为1的词语添加到相应的情感列表中\n",
    "    lines = lexion_content.split('\\n')\n",
    "    for line in lines:\n",
    "        parts = line.split('\\t')\n",
    "        if len(parts) == 3:  # 确保行包含三个部分\n",
    "            word, emotion, value = parts\n",
    "            if value == '1':\n",
    "                if emotion == 'positive':\n",
    "                    Positive.append(word)\n",
    "                elif emotion == 'negative':\n",
    "                    Negative.append(word)\n",
    "                elif emotion == 'anger':\n",
    "                    Anger.append(word)\n",
    "                elif emotion == 'anticipation':\n",
    "                    Anticipation.append(word)\n",
    "                elif emotion == 'disgust':\n",
    "                    Disgust.append(word)\n",
    "                elif emotion == 'fear':\n",
    "                    Fear.append(word)\n",
    "                elif emotion == 'joy':\n",
    "                    Joy.append(word)\n",
    "                elif emotion == 'sadness':\n",
    "                    Sadness.append(word)\n",
    "                elif emotion == 'surprise':\n",
    "                    Surprise.append(word)\n",
    "                elif emotion == 'trust':\n",
    "                    Trust.append(word)\n",
    "        else:\n",
    "            print(line)\n",
    "            \n",
    "    return Positive, Negative, Anger, Anticipation, Disgust, Fear, Joy, Sadness, Surprise, Trust"
   ]
  },
  {
   "cell_type": "code",
   "execution_count": 3,
   "id": "6496c146",
   "metadata": {
    "ExecuteTime": {
     "end_time": "2024-05-09T15:55:39.519998Z",
     "start_time": "2024-05-09T15:55:39.503399Z"
    }
   },
   "outputs": [],
   "source": [
    "# 计算一条文本的情感词频，返回series\n",
    "def emotion_caculate(text,Positive, Negative, Anger, Anticipation, Disgust, Fear, Joy, Sadness, Surprise, Trust):\n",
    "    positive, negative, anger, anticipation, disgust, fear, joy, sadness, surprise, trust = [0 for i in range(10)]\n",
    "    \n",
    "    text = text.lower()\n",
    "    wordlist = word_tokenize(text)\n",
    "    wordset = set(wordlist)\n",
    "    wordfreq = []\n",
    "    for word in wordset:\n",
    "        freq = wordlist.count(word)\n",
    "        if word in Positive:\n",
    "            positive+=freq\n",
    "        if word in Negative:\n",
    "            negative+=freq\n",
    "        if word in Anger:\n",
    "            anger+=freq  \n",
    "        if word in Anticipation:\n",
    "            anticipation+=freq\n",
    "        if word in Disgust:\n",
    "            disgust+=freq\n",
    "        if word in Fear:\n",
    "            fear+=freq\n",
    "        if word in Joy:\n",
    "            joy+=freq\n",
    "        if word in Sadness:\n",
    "            sadness+=freq\n",
    "        if word in Surprise:\n",
    "            surprise+=freq\n",
    "        if word in Trust:\n",
    "            trust+=freq\n",
    "            \n",
    "    emotion_info = {\n",
    "        'positive': positive,\n",
    "        'negative': negative,\n",
    "        'anger': anger,\n",
    "        'anticipation': anticipation,\n",
    "        'disgust': disgust,\n",
    "        'fear':fear,\n",
    "        'joy':joy,\n",
    "        'sadness':sadness,\n",
    "        'surprise':surprise,\n",
    "        'trust':trust,\n",
    "        'length':len(wordlist)\n",
    "    }\n",
    "    indexs = ['length', 'positive', 'negative', 'anger', 'anticipation','disgust','fear','joy','sadness','surprise','trust']\n",
    "    return pd.Series(emotion_info, index=indexs)"
   ]
  },
  {
   "cell_type": "code",
   "execution_count": 4,
   "id": "0e1a72fa",
   "metadata": {},
   "outputs": [],
   "source": [
    "# 大规模计算情感值，返回数据中全部月中每一条新闻的情感值\n",
    "def main():\n",
    "    with open(r'D:\\zhenfeng zhou\\The Civil War\\analyse_code\\emtion_analysis\\NRC-Emotion-Lexicon\\NRC-Emotion-Lexicon-Wordlevel-v0.92.txt', 'r',encoding = 'utf-8') as file:\n",
    "        lexion_content = file.read()\n",
    "        Positive, Negative, Anger, Anticipation, Disgust, Fear, Joy, Sadness, Surprise, Trust = build_emtion_list(lexion_content)\n",
    "        \n",
    "    # 给数据框添加进度条\n",
    "    tqdm.pandas()\n",
    "    file_path = r\"D:\\zhenfeng zhou\\The Civil War\\data\\only_black_news.csv\"\n",
    "    df = pd.read_csv(file_path)\n",
    "    df['filtered_text'] = df['filtered_text'].fillna('')\n",
    "    \n",
    "    emotion_data = df['filtered_text'].progress_apply(lambda text: emotion_caculate(text, Positive, Negative, Anger, Anticipation, Disgust, Fear, Joy, Sadness, Surprise, Trust))\n",
    "    \n",
    "    # 将计算结果合并到原 DataFrame 中\n",
    "    df = pd.concat([df, emotion_data], axis=1)\n",
    "\n",
    "    # 写入本地\n",
    "    df.to_csv(r'D:\\zhenfeng zhou\\The Civil War\\data\\only_black_news_emotion.csv',index = False)\n",
    "    \n",
    "    return 'done'"
   ]
  },
  {
   "cell_type": "code",
   "execution_count": 7,
   "id": "e77150a7",
   "metadata": {
    "ExecuteTime": {
     "start_time": "2024-05-09T15:55:47.666Z"
    }
   },
   "outputs": [
    {
     "name": "stdout",
     "output_type": "stream",
     "text": [
      "\n"
     ]
    },
    {
     "name": "stderr",
     "output_type": "stream",
     "text": [
      "100%|██████████████████████████████████████████████████████████████████████████████████████████████████████████████████████████████████████████████████████████████████████████████████████████████████████████████████████████████████████████████████████████████████████████████████████████████████████████| 270550/270550 [1:04:20<00:00, 70.07it/s]\n"
     ]
    }
   ],
   "source": [
    "# 运行\n",
    "if __name__ == \"__main__\":\n",
    "    main()"
   ]
  },
  {
   "cell_type": "code",
   "execution_count": null,
   "id": "e2c1aa48-46b6-4e88-ae99-e943113f9f00",
   "metadata": {},
   "outputs": [],
   "source": []
  }
 ],
 "metadata": {
  "kernelspec": {
   "display_name": "Python 3 (ipykernel)",
   "language": "python",
   "name": "python3"
  },
  "language_info": {
   "codemirror_mode": {
    "name": "ipython",
    "version": 3
   },
   "file_extension": ".py",
   "mimetype": "text/x-python",
   "name": "python",
   "nbconvert_exporter": "python",
   "pygments_lexer": "ipython3",
   "version": "3.11.4"
  },
  "toc": {
   "base_numbering": 1,
   "nav_menu": {},
   "number_sections": true,
   "sideBar": true,
   "skip_h1_title": false,
   "title_cell": "Table of Contents",
   "title_sidebar": "Contents",
   "toc_cell": false,
   "toc_position": {},
   "toc_section_display": true,
   "toc_window_display": false
  }
 },
 "nbformat": 4,
 "nbformat_minor": 5
}
