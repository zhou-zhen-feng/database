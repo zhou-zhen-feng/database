{
 "cells": [
  {
   "cell_type": "code",
   "execution_count": null,
   "id": "67a2b10d-bf59-407e-98cf-0a31b497a40a",
   "metadata": {},
   "outputs": [],
   "source": [
    "# cmd /k \"D:\\zhenfeng zhou\\nytimes_about_china\\nytimes\\Scripts\\activate.bat\"\n",
    "# pip install --upgrade torch torchvision torchaudio --index-url https://download.pytorch.org/whl/cu117"
   ]
  },
  {
   "cell_type": "markdown",
   "id": "803d3365-5f36-45b2-bbbe-49751dcee938",
   "metadata": {},
   "source": [
    "## 本科生打标训练"
   ]
  },
  {
   "cell_type": "markdown",
   "id": "c36e3dc0-2759-4ce4-906e-4e356830e44d",
   "metadata": {},
   "source": [
    "#### 注释：用本科生和研究生全部打标的，和只用研究生打标的，经过测试，结果没有只用本科生打标的好。"
   ]
  },
  {
   "cell_type": "code",
   "execution_count": 28,
   "id": "c2e40299-31fa-4d74-8fd1-4e1c307cd87e",
   "metadata": {},
   "outputs": [
    {
     "name": "stdout",
     "output_type": "stream",
     "text": [
      "CHNEMO\n",
      " 1    1120\n",
      "-1     628\n",
      " 0     534\n",
      "Name: count, dtype: int64\n",
      "信息的对华情感\n",
      "积极    1120\n",
      "消极     628\n",
      "无      534\n",
      "Name: count, dtype: int64\n"
     ]
    },
    {
     "data": {
      "text/html": [
       "<div>\n",
       "<style scoped>\n",
       "    .dataframe tbody tr th:only-of-type {\n",
       "        vertical-align: middle;\n",
       "    }\n",
       "\n",
       "    .dataframe tbody tr th {\n",
       "        vertical-align: top;\n",
       "    }\n",
       "\n",
       "    .dataframe thead th {\n",
       "        text-align: right;\n",
       "    }\n",
       "</style>\n",
       "<table border=\"1\" class=\"dataframe\">\n",
       "  <thead>\n",
       "    <tr style=\"text-align: right;\">\n",
       "      <th></th>\n",
       "      <th>data_row</th>\n",
       "      <th>Area</th>\n",
       "      <th>KeyWords</th>\n",
       "      <th>Name</th>\n",
       "      <th>Verified</th>\n",
       "      <th>Language</th>\n",
       "      <th>Content_new</th>\n",
       "      <th>信息的对华情感</th>\n",
       "      <th>CHNEMO</th>\n",
       "      <th>信息的私人情感（不指向CHN）</th>\n",
       "      <th>PE</th>\n",
       "      <th>作者是机构的可能性</th>\n",
       "      <th>ORG</th>\n",
       "      <th>train_predict</th>\n",
       "    </tr>\n",
       "  </thead>\n",
       "  <tbody>\n",
       "    <tr>\n",
       "      <th>1364</th>\n",
       "      <td>20001</td>\n",
       "      <td>政治</td>\n",
       "      <td>XiJinping</td>\n",
       "      <td>艾蜜莉</td>\n",
       "      <td>f</td>\n",
       "      <td>en</td>\n",
       "      <td>President Xi Jinping met with Senior Minister ...</td>\n",
       "      <td>无</td>\n",
       "      <td>0</td>\n",
       "      <td>无</td>\n",
       "      <td>0</td>\n",
       "      <td>1不确定</td>\n",
       "      <td>1</td>\n",
       "      <td>train</td>\n",
       "    </tr>\n",
       "    <tr>\n",
       "      <th>1365</th>\n",
       "      <td>20002</td>\n",
       "      <td>政治</td>\n",
       "      <td>XiJinping</td>\n",
       "      <td>Vichar Swadeshi</td>\n",
       "      <td>t</td>\n",
       "      <td>en</td>\n",
       "      <td>#China #Huawei #XiJinping #Swadeshi Swadeshi p...</td>\n",
       "      <td>积极</td>\n",
       "      <td>1</td>\n",
       "      <td>无</td>\n",
       "      <td>0</td>\n",
       "      <td>0不是机构</td>\n",
       "      <td>0</td>\n",
       "      <td>train</td>\n",
       "    </tr>\n",
       "  </tbody>\n",
       "</table>\n",
       "</div>"
      ],
      "text/plain": [
       "     data_row Area   KeyWords             Name Verified Language  \\\n",
       "1364    20001   政治  XiJinping              艾蜜莉        f       en   \n",
       "1365    20002   政治  XiJinping  Vichar Swadeshi        t       en   \n",
       "\n",
       "                                            Content_new 信息的对华情感  CHNEMO  \\\n",
       "1364  President Xi Jinping met with Senior Minister ...       无       0   \n",
       "1365  #China #Huawei #XiJinping #Swadeshi Swadeshi p...      积极       1   \n",
       "\n",
       "     信息的私人情感（不指向CHN）  PE 作者是机构的可能性  ORG train_predict  \n",
       "1364               无   0      1不确定    1         train  \n",
       "1365               无   0     0不是机构    0         train  "
      ]
     },
     "execution_count": 28,
     "metadata": {},
     "output_type": "execute_result"
    }
   ],
   "source": [
    "import pandas as pd\n",
    "file = pd.read_excel(r'C:\\Users\\supervisor\\Desktop\\对华情感研究项目 zhenfeng zhou\\网络舆情作业\\新一轮对华情感预测\\data\\标签的数据 乱码 第二轮 sum.xlsx')\n",
    "\n",
    "# 过滤只保留以 '2' 开头的行\n",
    "file['data_row'] = file['data_row'].astype(str)\n",
    "file = file[file['data_row'].str.startswith('2')]\n",
    "\n",
    "print(file['CHNEMO'].value_counts())\n",
    "print(file['信息的对华情感'].value_counts())\n",
    "file.head(2)"
   ]
  },
  {
   "cell_type": "code",
   "execution_count": 29,
   "id": "6ffe510b-4c30-4c6d-8cff-cc834b89a935",
   "metadata": {},
   "outputs": [
    {
     "name": "stdout",
     "output_type": "stream",
     "text": [
      "Train: CHNEMO\n",
      "1    784\n",
      "2    439\n",
      "0    374\n",
      "Name: count, dtype: int64\n",
      "Dev: CHNEMO\n",
      "1    168\n",
      "2     94\n",
      "0     80\n",
      "Name: count, dtype: int64\n",
      "Test: CHNEMO\n",
      "1    168\n",
      "2     95\n",
      "0     80\n",
      "Name: count, dtype: int64\n"
     ]
    },
    {
     "name": "stderr",
     "output_type": "stream",
     "text": [
      "C:\\Users\\supervisor\\AppData\\Local\\Temp\\ipykernel_3424\\1220701146.py:45: FutureWarning: A value is trying to be set on a copy of a DataFrame or Series through chained assignment using an inplace method.\n",
      "The behavior will change in pandas 3.0. This inplace method will never work because the intermediate object on which we are setting values always behaves as a copy.\n",
      "\n",
      "For example, when doing 'df[col].method(value, inplace=True)', try using 'df.method({col: value}, inplace=True)' or df[col] = df[col].method(value) instead, to perform the operation inplace on the original object.\n",
      "\n",
      "\n",
      "  total_text[\"CHNEMO\"].replace([0, 1, -1], [0, 1, 2], inplace=True)\n"
     ]
    }
   ],
   "source": [
    "from sklearn.model_selection import train_test_split\n",
    "import pandas as pd\n",
    "\n",
    "# 筛选有效数据\n",
    "file = file[['Content_new', 'CHNEMO']].fillna('not')\n",
    "total_text = file[file['CHNEMO'] != 'not'].copy()\n",
    "\n",
    "# 替换标签值\n",
    "total_text[\"CHNEMO\"].replace([0, 1, -1], [0, 1, 2], inplace=True)\n",
    "total_text = total_text.sample(frac=1, random_state=42).reset_index(drop=True)\n",
    "\n",
    "# 第一步：划分出 70% 训练集 + 30% (验证 + 测试)\n",
    "train_text, temp_text = train_test_split(\n",
    "    total_text,\n",
    "    test_size=0.3,\n",
    "    stratify=total_text['CHNEMO'],\n",
    "    random_state=42)\n",
    "\n",
    "# 第二步：将30%的部分再划分成15%验证 + 15%测试\n",
    "dev_text, test_text = train_test_split(\n",
    "    temp_text,\n",
    "    test_size=0.5,\n",
    "    stratify=temp_text['CHNEMO'],\n",
    "    random_state=42)\n",
    "\n",
    "# 打乱顺序（可选）\n",
    "train_text = train_text.sample(frac=1, random_state=42).reset_index(drop=True)\n",
    "dev_text = dev_text.sample(frac=1, random_state=42).reset_index(drop=True)\n",
    "test_text = test_text.sample(frac=1, random_state=42).reset_index(drop=True)\n",
    "\n",
    "# 保存到本地（如果需要）\n",
    "\n",
    "train_text.to_csv(r'C:\\Users\\supervisor\\Desktop\\对华情感研究项目 zhenfeng zhou\\网络舆情作业\\新一轮对华情感预测\\data\\train.csv', index=False, encoding='utf-8')\n",
    "dev_text.to_csv(r'C:\\Users\\supervisor\\Desktop\\对华情感研究项目 zhenfeng zhou\\网络舆情作业\\新一轮对华情感预测\\data\\dev.csv', index=False, encoding='utf-8')\n",
    "test_text.to_csv(r'C:\\Users\\supervisor\\Desktop\\对华情感研究项目 zhenfeng zhou\\网络舆情作业\\新一轮对华情感预测\\data\\test.csv', index=False, encoding='utf-8')\n",
    "\n",
    "\n",
    "# 查看数量\n",
    "print(\"Train:\", train_text['CHNEMO'].value_counts())\n",
    "print(\"Dev:\", dev_text['CHNEMO'].value_counts())\n",
    "print(\"Test:\", test_text['CHNEMO'].value_counts())\n"
   ]
  },
  {
   "cell_type": "markdown",
   "id": "b4421e6e-de31-4ff9-8395-b73b5e86d199",
   "metadata": {},
   "source": [
    "#### 利用llm做数据增强"
   ]
  },
  {
   "cell_type": "code",
   "execution_count": 4,
   "id": "e0280511-bbd1-424c-89ac-a77b9209a856",
   "metadata": {},
   "outputs": [],
   "source": [
    "# import os\n",
    "# import json\n",
    "# from tqdm import tqdm\n",
    "# from openai import OpenAI\n",
    "# import pandas as pd\n",
    "\n",
    "# # 配置OpenAI客户端（新版本API要求）\n",
    "# client = OpenAI(api_key)\n",
    "\n",
    "# template = \"\"\"Task: I will give you a text and its emotional type. Please rewrite it. Please strictly follow the following requirements.\n",
    "# Requirements:\n",
    "# - The original text's emotional category for China must be completely retained (1 for positive emotion, 2 for negative emotion, 0 for no emotion). No change in emotional polarity is allowed.\n",
    "# - Just change its language style to make it look more real and in line with reading habits.\n",
    "# - It is forbidden to add content unrelated to the original text. Make sure that the rewrite revolves around the same event or topic before and after, and is consistent with the original meaning.\n",
    "# Twitter text：{text}\n",
    "# Types of Emotions: {label}\"\"\"\n",
    "\n",
    "# # 读取训练数据\n",
    "# # all_datas_text = open(r\"C:\\Users\\supervisor\\Desktop\\对华情感研究项目 zhenfeng zhou\\网络舆情作业\\新一轮对华情感预测\\data\\train.csv\", 'r', encoding='utf-8').readlines()[1:]\n",
    "# # # all_datas = [x.rsplit(',', 1) for x in all_datas_text][:2]\n",
    "# # all_datas = [x.rsplit(',', 1) for x in all_datas_text]\n",
    "\n",
    "# # 读取 CSV 文件，自动识别列\n",
    "# all_datas = pd.read_csv(r\"C:\\Users\\supervisor\\Desktop\\对华情感研究项目 zhenfeng zhou\\网络舆情作业\\新一轮对华情感预测\\data\\train.csv\", encoding='utf-8')\n",
    "# all_datas = list(zip(all_datas['Content_new'], all_datas['CHNEMO']))\n",
    "\n",
    "# output_file = r\"C:\\Users\\supervisor\\Desktop\\对华情感研究项目 zhenfeng zhou\\网络舆情作业\\新一轮对华情感预测\\data\\train_aug.jsonl\"\n",
    "# num = len(open(output_file, 'r', encoding='utf-8').readlines()) if os.path.exists(output_file) else 0\n",
    "\n",
    "# all_results = []\n",
    "# for idx, (text, label) in enumerate(tqdm(all_datas)):\n",
    "#     # print(f\"processed {idx} / {len(all_datas)}\")\n",
    "#     # print(text, label)\n",
    "    \n",
    "#     if idx < num:\n",
    "#         continue\n",
    "    \n",
    "#     user_prompt = template.format(text=text, label=label)\n",
    "    \n",
    "#     # 使用新版API调用模型\n",
    "#     try:\n",
    "#         response = client.chat.completions.create(\n",
    "#             model=\"gpt-4o-mini\",\n",
    "#             messages=[{\"role\": \"user\", \"content\": user_prompt}],\n",
    "#             temperature=0.7,\n",
    "#         )\n",
    "#         aug_text = response.choices[0].message.content\n",
    "#         # print(aug_text)\n",
    "        \n",
    "#         data = {\"Content_new\": aug_text, \"CHNEMO\": label}\n",
    "#         with open(output_file, 'a', encoding='utf-8') as f:\n",
    "#             f.write(json.dumps(data, ensure_ascii=False) + '\\n')\n",
    "            \n",
    "#     except Exception as e:\n",
    "#         print(f\"Error processing sample {idx}: {e}\")\n",
    "#         continue\n",
    "\n",
    "# # 转换为CSV格式\n",
    "# aug_datas = open(r\"C:\\Users\\supervisor\\Desktop\\对华情感研究项目 zhenfeng zhou\\网络舆情作业\\新一轮对华情感预测\\data\\train_aug.jsonl\", 'r', encoding='utf-8').readlines()\n",
    "# aug_datas = [json.loads(x) for x in aug_datas]\n",
    "# pd.DataFrame(aug_datas).to_csv(r'C:\\Users\\supervisor\\Desktop\\对华情感研究项目 zhenfeng zhou\\网络舆情作业\\新一轮对华情感预测\\data\\train_aug.csv', index=False, encoding='utf-8')"
   ]
  },
  {
   "cell_type": "code",
   "execution_count": null,
   "id": "4e68b101-26d5-485a-8adb-7c5bf42e0d99",
   "metadata": {},
   "outputs": [],
   "source": [
    "教程地址： https://blog.csdn.net/qq_42496984/article/details/134136092"
   ]
  },
  {
   "cell_type": "code",
   "execution_count": 31,
   "id": "13bc6e59-2716-4df3-ba86-59511e9ef174",
   "metadata": {},
   "outputs": [
    {
     "data": {
      "text/html": [
       "<div>\n",
       "<style scoped>\n",
       "    .dataframe tbody tr th:only-of-type {\n",
       "        vertical-align: middle;\n",
       "    }\n",
       "\n",
       "    .dataframe tbody tr th {\n",
       "        vertical-align: top;\n",
       "    }\n",
       "\n",
       "    .dataframe thead th {\n",
       "        text-align: right;\n",
       "    }\n",
       "</style>\n",
       "<table border=\"1\" class=\"dataframe\">\n",
       "  <thead>\n",
       "    <tr style=\"text-align: right;\">\n",
       "      <th></th>\n",
       "      <th>text</th>\n",
       "      <th>label</th>\n",
       "    </tr>\n",
       "  </thead>\n",
       "  <tbody>\n",
       "    <tr>\n",
       "      <th>0</th>\n",
       "      <td>At a conference packed with people from China ...</td>\n",
       "      <td>0</td>\n",
       "    </tr>\n",
       "    <tr>\n",
       "      <th>1</th>\n",
       "      <td>What's going on with China? When did life-chan...</td>\n",
       "      <td>0</td>\n",
       "    </tr>\n",
       "    <tr>\n",
       "      <th>2</th>\n",
       "      <td>me who's been playing a lot of tencent's games...</td>\n",
       "      <td>0</td>\n",
       "    </tr>\n",
       "    <tr>\n",
       "      <th>3</th>\n",
       "      <td>How is it that the Chinese are allowed to comp...</td>\n",
       "      <td>2</td>\n",
       "    </tr>\n",
       "    <tr>\n",
       "      <th>4</th>\n",
       "      <td>#newsnight Just a heads up for Trump: more tha...</td>\n",
       "      <td>0</td>\n",
       "    </tr>\n",
       "    <tr>\n",
       "      <th>...</th>\n",
       "      <td>...</td>\n",
       "      <td>...</td>\n",
       "    </tr>\n",
       "    <tr>\n",
       "      <th>3189</th>\n",
       "      <td>may god bless the earth that created the unive...</td>\n",
       "      <td>1</td>\n",
       "    </tr>\n",
       "    <tr>\n",
       "      <th>3190</th>\n",
       "      <td>This an experimental 620 mph low vacuum high-s...</td>\n",
       "      <td>1</td>\n",
       "    </tr>\n",
       "    <tr>\n",
       "      <th>3191</th>\n",
       "      <td>Chinese banks are increasingly foreclosing on ...</td>\n",
       "      <td>2</td>\n",
       "    </tr>\n",
       "    <tr>\n",
       "      <th>3192</th>\n",
       "      <td>China’s Patriotic Rhetoric Takes a Violent Tur...</td>\n",
       "      <td>2</td>\n",
       "    </tr>\n",
       "    <tr>\n",
       "      <th>3193</th>\n",
       "      <td>The amazing thing about this #copper chart is ...</td>\n",
       "      <td>2</td>\n",
       "    </tr>\n",
       "  </tbody>\n",
       "</table>\n",
       "<p>3194 rows × 2 columns</p>\n",
       "</div>"
      ],
      "text/plain": [
       "                                                   text  label\n",
       "0     At a conference packed with people from China ...      0\n",
       "1     What's going on with China? When did life-chan...      0\n",
       "2     me who's been playing a lot of tencent's games...      0\n",
       "3     How is it that the Chinese are allowed to comp...      2\n",
       "4     #newsnight Just a heads up for Trump: more tha...      0\n",
       "...                                                 ...    ...\n",
       "3189  may god bless the earth that created the unive...      1\n",
       "3190  This an experimental 620 mph low vacuum high-s...      1\n",
       "3191  Chinese banks are increasingly foreclosing on ...      2\n",
       "3192  China’s Patriotic Rhetoric Takes a Violent Tur...      2\n",
       "3193  The amazing thing about this #copper chart is ...      2\n",
       "\n",
       "[3194 rows x 2 columns]"
      ]
     },
     "execution_count": 31,
     "metadata": {},
     "output_type": "execute_result"
    }
   ],
   "source": [
    "import pandas as pd\n",
    "\n",
    "# 本地数据地址\n",
    "train_data_path = r'C:\\Users\\supervisor\\Desktop\\对华情感研究项目 zhenfeng zhou\\网络舆情作业\\新一轮对华情感预测\\data\\train.csv'\n",
    "train_aug_path = r'C:\\Users\\supervisor\\Desktop\\对华情感研究项目 zhenfeng zhou\\网络舆情作业\\新一轮对华情感预测\\data\\train_aug.csv'\n",
    "dev_data_path = r'C:\\Users\\supervisor\\Desktop\\对华情感研究项目 zhenfeng zhou\\网络舆情作业\\新一轮对华情感预测\\data\\dev.csv'\n",
    "test_data_path = r'C:\\Users\\supervisor\\Desktop\\对华情感研究项目 zhenfeng zhou\\网络舆情作业\\新一轮对华情感预测\\data\\test.csv'\n",
    "# label_path = 'data/rumor/type.txt'\n",
    "\n",
    "# 读取数据\n",
    "train_df = pd.read_csv(train_data_path, header=0)\n",
    "train_aug = pd.read_csv(train_aug_path, header=0)\n",
    "dev_df = pd.read_csv(dev_data_path, header=0)\n",
    "test_df = pd.read_csv(test_data_path, header=0)\n",
    "\n",
    "train_df = pd.concat([train_df, train_aug]).sample(frac=1).reset_index(drop=True)\n",
    "train_df\n",
    "\n",
    "# 更改列名\n",
    "new_columns = ['text', 'label']  \n",
    "train_df = train_df.rename(columns=dict(zip(train_df.columns, new_columns)))\n",
    "dev_df = dev_df.rename(columns=dict(zip(dev_df.columns, new_columns)))\n",
    "test_df = test_df.rename(columns=dict(zip(test_df.columns, new_columns)))\n",
    "\n",
    "# 读取标签\n",
    "# real_labels = []\n",
    "# with open('data/rumor/type.txt', 'r', encoding='utf-8') as f:\n",
    "#     for row in f.readlines():\n",
    "#         real_labels.append(row.strip())\n",
    "# # test_df,real_labels\n",
    "train_df"
   ]
  },
  {
   "cell_type": "code",
   "execution_count": 32,
   "id": "015bee93-7e46-4323-b920-3ac4b352180d",
   "metadata": {},
   "outputs": [
    {
     "data": {
      "image/png": "[encoded data removed]",
      "text/plain": [
       "<Figure size 640x480 with 1 Axes>"
      ]
     },
     "metadata": {},
     "output_type": "display_data"
    }
   ],
   "source": [
    "import matplotlib.pyplot as plt\n",
    "# 设置全局字体为SimHei，这是一种支持中文的字体  \n",
    "plt.rcParams['font.sans-serif'] = ['SimHei']\n",
    "# 解决保存图像时负号'-'显示为方块的问题  \n",
    "plt.rcParams['axes.unicode_minus'] = False \n",
    "\n",
    "# 计算字符串长度并统计分布  \n",
    "length_counts = train_df['text'].apply(len).value_counts().sort_index()  \n",
    "\n",
    "# 绘制直方图  \n",
    "plt.hist(length_counts.index, bins=len(length_counts), weights=length_counts.values)  \n",
    "plt.xlabel('文本长度')  \n",
    "plt.ylabel('频数')  \n",
    "plt.title('字符串长度分布直方图')  \n",
    "plt.show()\n"
   ]
  },
  {
   "cell_type": "code",
   "execution_count": 33,
   "id": "f3867ee7-a8d8-4d96-96b1-d1b6a5840b15",
   "metadata": {},
   "outputs": [
    {
     "name": "stderr",
     "output_type": "stream",
     "text": [
      "Special tokens have been added in the vocabulary, make sure the associated word embeddings are fine-tuned or trained.\n"
     ]
    }
   ],
   "source": [
    "# 下载的预训练文件路径\n",
    "BERT_PATH = r'C:\\Users\\supervisor\\Desktop\\对华情感研究项目 zhenfeng zhou\\网络舆情作业\\新一轮对华情感预测\\bertweet-base'\n",
    "\n",
    "from transformers import AutoTokenizer\n",
    "\n",
    "tokenizer = AutoTokenizer.from_pretrained(BERT_PATH, use_fast=True,local_files_only=True )\n"
   ]
  },
  {
   "cell_type": "code",
   "execution_count": 35,
   "id": "985aa1f0-34c9-4ab2-a0ac-6edd8788bdb0",
   "metadata": {},
   "outputs": [],
   "source": [
    "from torch.utils.data import Dataset, DataLoader\n",
    "import torch\n",
    "from torch.utils.data import Dataset\n",
    "\n",
    "class MyDataset(Dataset):\n",
    "    def __init__(self, df):\n",
    "        self.texts = tokenizer(\n",
    "            df['text'].tolist(),\n",
    "            padding='max_length',\n",
    "            truncation=True,\n",
    "            max_length=128,\n",
    "            return_tensors=\"pt\"\n",
    "        )\n",
    "        self.labels = torch.tensor(df['label'].values, dtype=torch.long)\n",
    "\n",
    "    def __getitem__(self, idx):\n",
    "        return {\n",
    "            'input_ids': self.texts['input_ids'][idx],\n",
    "            'attention_mask': self.texts['attention_mask'][idx],\n",
    "            'labels': self.labels[idx]\n",
    "        }\n",
    "\n",
    "    def __len__(self):\n",
    "        return len(self.labels)\n",
    "\n",
    "# 使用GPU开展任务非常快，非CPU\n",
    "train_dataset = MyDataset(train_df)\n",
    "dev_dataset = MyDataset(dev_df)\n",
    "test_dataset = MyDataset(test_df)\n",
    "# print(train_dataset.texts[0].shape)"
   ]
  },
  {
   "cell_type": "code",
   "execution_count": 36,
   "id": "941770d5-894d-4ebf-9acc-a301411380d3",
   "metadata": {},
   "outputs": [],
   "source": [
    "from transformers import RobertaModel\n",
    "from torch import nn\n",
    "class BertClassifier(nn.Module):\n",
    "    def __init__(self, pretrained_path=BERT_PATH, dropout_prob=0.5, num_classes=3):\n",
    "        super(BertClassifier, self).__init__()\n",
    "        self.roberta = RobertaModel.from_pretrained(pretrained_path)\n",
    "        self.dropout = nn.Dropout(dropout_prob)\n",
    "        self.classifier = nn.Linear(self.roberta.config.hidden_size, num_classes)\n",
    "\n",
    "    def forward(self, input_ids, attention_mask):\n",
    "        outputs = self.roberta(input_ids=input_ids, attention_mask=attention_mask)\n",
    "        pooled_output = outputs.last_hidden_state[:, 0, :]  # 使用 [CLS] token\n",
    "        pooled_output = self.dropout(pooled_output)\n",
    "        return self.classifier(pooled_output)\n"
   ]
  },
  {
   "cell_type": "code",
   "execution_count": 37,
   "id": "4a0ca05e-90bd-4385-8160-1e65928716cf",
   "metadata": {},
   "outputs": [
    {
     "name": "stderr",
     "output_type": "stream",
     "text": [
      "100%|████████████████████████████████████████████████████████████████████████████████| 200/200 [00:40<00:00,  4.93it/s]\n"
     ]
    },
    {
     "name": "stdout",
     "output_type": "stream",
     "text": [
      "Epochs: 1 \n",
      "              | Train Loss:  0.058 \n",
      "              | Train Accuracy:  0.560 \n",
      "              | Val Loss:  0.063 \n",
      "              | Val Accuracy:  0.520\n",
      "best_dev_acc:0.52046783625731, lr:2e-05, epoch:1\n"
     ]
    },
    {
     "name": "stderr",
     "output_type": "stream",
     "text": [
      "100%|████████████████████████████████████████████████████████████████████████████████| 200/200 [00:41<00:00,  4.84it/s]\n"
     ]
    },
    {
     "name": "stdout",
     "output_type": "stream",
     "text": [
      "Epochs: 2 \n",
      "              | Train Loss:  0.040 \n",
      "              | Train Accuracy:  0.759 \n",
      "              | Val Loss:  0.062 \n",
      "              | Val Accuracy:  0.582\n",
      "best_dev_acc:0.5818713450292398, lr:2e-05, epoch:2\n"
     ]
    },
    {
     "name": "stderr",
     "output_type": "stream",
     "text": [
      "100%|████████████████████████████████████████████████████████████████████████████████| 200/200 [00:41<00:00,  4.83it/s]\n"
     ]
    },
    {
     "name": "stdout",
     "output_type": "stream",
     "text": [
      "Epochs: 3 \n",
      "              | Train Loss:  0.024 \n",
      "              | Train Accuracy:  0.862 \n",
      "              | Val Loss:  0.070 \n",
      "              | Val Accuracy:  0.620\n",
      "best_dev_acc:0.6198830409356725, lr:2e-05, epoch:3\n"
     ]
    },
    {
     "name": "stderr",
     "output_type": "stream",
     "text": [
      "100%|████████████████████████████████████████████████████████████████████████████████| 200/200 [00:41<00:00,  4.84it/s]\n"
     ]
    },
    {
     "name": "stdout",
     "output_type": "stream",
     "text": [
      "Epochs: 4 \n",
      "              | Train Loss:  0.014 \n",
      "              | Train Accuracy:  0.926 \n",
      "              | Val Loss:  0.082 \n",
      "              | Val Accuracy:  0.588\n"
     ]
    },
    {
     "name": "stderr",
     "output_type": "stream",
     "text": [
      "100%|████████████████████████████████████████████████████████████████████████████████| 200/200 [00:41<00:00,  4.83it/s]\n"
     ]
    },
    {
     "name": "stdout",
     "output_type": "stream",
     "text": [
      "Epochs: 5 \n",
      "              | Train Loss:  0.007 \n",
      "              | Train Accuracy:  0.964 \n",
      "              | Val Loss:  0.108 \n",
      "              | Val Accuracy:  0.602\n"
     ]
    },
    {
     "name": "stderr",
     "output_type": "stream",
     "text": [
      "100%|████████████████████████████████████████████████████████████████████████████████| 200/200 [00:41<00:00,  4.82it/s]\n"
     ]
    },
    {
     "name": "stdout",
     "output_type": "stream",
     "text": [
      "Epochs: 6 \n",
      "              | Train Loss:  0.006 \n",
      "              | Train Accuracy:  0.973 \n",
      "              | Val Loss:  0.108 \n",
      "              | Val Accuracy:  0.599\n"
     ]
    },
    {
     "name": "stderr",
     "output_type": "stream",
     "text": [
      "100%|████████████████████████████████████████████████████████████████████████████████| 200/200 [00:41<00:00,  4.83it/s]\n"
     ]
    },
    {
     "name": "stdout",
     "output_type": "stream",
     "text": [
      "Epochs: 7 \n",
      "              | Train Loss:  0.003 \n",
      "              | Train Accuracy:  0.987 \n",
      "              | Val Loss:  0.124 \n",
      "              | Val Accuracy:  0.550\n"
     ]
    },
    {
     "name": "stderr",
     "output_type": "stream",
     "text": [
      "100%|████████████████████████████████████████████████████████████████████████████████| 200/200 [00:41<00:00,  4.84it/s]\n"
     ]
    },
    {
     "name": "stdout",
     "output_type": "stream",
     "text": [
      "Epochs: 8 \n",
      "              | Train Loss:  0.003 \n",
      "              | Train Accuracy:  0.985 \n",
      "              | Val Loss:  0.111 \n",
      "              | Val Accuracy:  0.579\n"
     ]
    },
    {
     "name": "stderr",
     "output_type": "stream",
     "text": [
      "100%|████████████████████████████████████████████████████████████████████████████████| 200/200 [00:41<00:00,  4.84it/s]\n"
     ]
    },
    {
     "name": "stdout",
     "output_type": "stream",
     "text": [
      "Epochs: 9 \n",
      "              | Train Loss:  0.003 \n",
      "              | Train Accuracy:  0.989 \n",
      "              | Val Loss:  0.125 \n",
      "              | Val Accuracy:  0.558\n"
     ]
    },
    {
     "name": "stderr",
     "output_type": "stream",
     "text": [
      "100%|████████████████████████████████████████████████████████████████████████████████| 200/200 [00:41<00:00,  4.83it/s]\n"
     ]
    },
    {
     "name": "stdout",
     "output_type": "stream",
     "text": [
      "Epochs: 10 \n",
      "              | Train Loss:  0.002 \n",
      "              | Train Accuracy:  0.993 \n",
      "              | Val Loss:  0.128 \n",
      "              | Val Accuracy:  0.588\n"
     ]
    },
    {
     "name": "stderr",
     "output_type": "stream",
     "text": [
      "100%|████████████████████████████████████████████████████████████████████████████████| 200/200 [00:41<00:00,  4.84it/s]\n"
     ]
    },
    {
     "name": "stdout",
     "output_type": "stream",
     "text": [
      "Epochs: 11 \n",
      "              | Train Loss:  0.005 \n",
      "              | Train Accuracy:  0.978 \n",
      "              | Val Loss:  0.138 \n",
      "              | Val Accuracy:  0.579\n"
     ]
    },
    {
     "name": "stderr",
     "output_type": "stream",
     "text": [
      "100%|████████████████████████████████████████████████████████████████████████████████| 200/200 [00:41<00:00,  4.85it/s]\n"
     ]
    },
    {
     "name": "stdout",
     "output_type": "stream",
     "text": [
      "Epochs: 12 \n",
      "              | Train Loss:  0.002 \n",
      "              | Train Accuracy:  0.989 \n",
      "              | Val Loss:  0.146 \n",
      "              | Val Accuracy:  0.591\n"
     ]
    },
    {
     "name": "stderr",
     "output_type": "stream",
     "text": [
      "100%|████████████████████████████████████████████████████████████████████████████████| 200/200 [00:41<00:00,  4.84it/s]\n"
     ]
    },
    {
     "name": "stdout",
     "output_type": "stream",
     "text": [
      "Epochs: 13 \n",
      "              | Train Loss:  0.003 \n",
      "              | Train Accuracy:  0.986 \n",
      "              | Val Loss:  0.133 \n",
      "              | Val Accuracy:  0.596\n"
     ]
    },
    {
     "name": "stderr",
     "output_type": "stream",
     "text": [
      "100%|████████████████████████████████████████████████████████████████████████████████| 200/200 [00:41<00:00,  4.84it/s]\n"
     ]
    },
    {
     "name": "stdout",
     "output_type": "stream",
     "text": [
      "Epochs: 14 \n",
      "              | Train Loss:  0.003 \n",
      "              | Train Accuracy:  0.984 \n",
      "              | Val Loss:  0.130 \n",
      "              | Val Accuracy:  0.576\n"
     ]
    },
    {
     "name": "stderr",
     "output_type": "stream",
     "text": [
      "100%|████████████████████████████████████████████████████████████████████████████████| 200/200 [00:41<00:00,  4.82it/s]\n"
     ]
    },
    {
     "name": "stdout",
     "output_type": "stream",
     "text": [
      "Epochs: 15 \n",
      "              | Train Loss:  0.001 \n",
      "              | Train Accuracy:  0.998 \n",
      "              | Val Loss:  0.146 \n",
      "              | Val Accuracy:  0.576\n",
      "best_dev_acc:0.6198830409356725, lr:2e-05\n"
     ]
    }
   ],
   "source": [
    "import torch\n",
    "from torch.optim import Adam\n",
    "from tqdm import tqdm\n",
    "import numpy as np\n",
    "import random\n",
    "import os\n",
    "from sklearn.utils.class_weight import compute_class_weight\n",
    "\n",
    "# 训练超参数\n",
    "epoch = 15\n",
    "batch_size = 16\n",
    "#lrs = [5e-6, 1e-5, 2e-5, 5e-5, 1e-4]  \n",
    "lrs = [2e-5]\n",
    "totals_acc_val = []\n",
    "device = torch.device(\"cuda:0\" if torch.cuda.is_available() else \"cpu\")\n",
    "random_seed = 1999\n",
    "save_path = r'C:\\Users\\supervisor\\Desktop\\对华情感研究项目 zhenfeng zhou\\网络舆情作业\\新一轮对华情感预测\\bert_checkpoint'\n",
    "\n",
    "def setup_seed(seed):\n",
    "    torch.manual_seed(seed)\n",
    "    torch.cuda.manual_seed_all(seed)\n",
    "    np.random.seed(seed)\n",
    "    random.seed(seed)\n",
    "    torch.backends.cudnn.deterministic = True\n",
    "setup_seed(random_seed)\n",
    "\n",
    "\n",
    "def save_model(save_name):\n",
    "    if not os.path.exists(save_path):\n",
    "        os.makedirs(save_path)\n",
    "    torch.save(model.state_dict(), os.path.join(save_path, save_name))\n",
    "\n",
    "for lr in lrs:\n",
    "    # for seed in random_seeds:\n",
    "    #     setup_seed(seed)\n",
    "    # 定义模型\n",
    "    model = BertClassifier()\n",
    "    # model.load_state_dict(torch.load(os.path.join(save_path, 'last.pt')))\n",
    "    # 定义损失函数和优化器\n",
    "    # criterion = nn.CrossEntropyLoss()\n",
    "    # optimizer = Adam(model.parameters(), lr=lr)\n",
    "    model = model.to(device)\n",
    "    # criterion = criterion.to(device)\n",
    "    \n",
    "    # 构建数据加载器\n",
    "    train_loader = DataLoader(train_dataset, batch_size=batch_size, shuffle=True)\n",
    "    dev_loader = DataLoader(dev_dataset, batch_size=batch_size)\n",
    "\n",
    "     # === 计算 class weights ===\n",
    "    all_labels = [int(sample['labels']) for sample in train_dataset]  # 确保是 int 类型\n",
    "    # classes = np.unique(all_labels)  # 确保包含所有标签\n",
    "    # all_labels = [sample['labels'] for sample in train_dataset]\n",
    "    class_weights_np = compute_class_weight(class_weight='balanced',\n",
    "                                            classes=np.unique(all_labels),\n",
    "                                            y=all_labels)\n",
    "    class_weights = torch.tensor(class_weights_np, dtype=torch.float).to(device)\n",
    "\n",
    "\n",
    "    # === 定义损失函数和优化器 ===\n",
    "    criterion = nn.CrossEntropyLoss(weight=class_weights).to(device)\n",
    "    optimizer = Adam(model.parameters(), lr=lr)\n",
    "\n",
    "    # 训练\n",
    "    best_dev_acc = 0\n",
    "    # total_step = 0\n",
    "    for epoch_num in range(epoch):\n",
    "        total_acc_train = 0\n",
    "        total_loss_train = 0\n",
    "        for batch in tqdm(train_loader):\n",
    "            # total_step += 1\n",
    "            # input_ids = inputs['input_ids'].squeeze(1).to(device) # torch.Size([32, 35])\n",
    "            # input_ids = inputs['input_ids'].to(device).squeeze()  # 或不 squeeze\n",
    "            # masks = inputs['attention_mask'].to(device) # torch.Size([32, 1, 35])\n",
    "            input_ids = batch['input_ids'].to(device)  # shape: [batch_size, seq_len]\n",
    "            masks = batch['attention_mask'].to(device) # shape: [batch_size, seq_len]\n",
    "            labels = batch['labels'].to(device)\n",
    "            output = model(input_ids, masks)\n",
    "    \n",
    "            batch_loss = criterion(output, labels)\n",
    "            batch_loss.backward()\n",
    "            optimizer.step()\n",
    "            optimizer.zero_grad()\n",
    "            acc = (output.argmax(dim=1) == labels).sum().item()\n",
    "            total_acc_train += acc\n",
    "            total_loss_train += batch_loss.item()\n",
    "            # if total_step > 100:\n",
    "            #     break\n",
    "    \n",
    "        # ----------- 验证模型 -----------\n",
    "        model.eval()\n",
    "        total_acc_val = 0\n",
    "        total_loss_val = 0\n",
    "        # 不需要计算梯度\n",
    "        with torch.no_grad():\n",
    "            # 循环获取数据集，并用训练好的模型进行验证\n",
    "            for batch in dev_loader:\n",
    "                # input_ids = inputs['input_ids'].squeeze(1).to(device) # torch.Size([32, 35])\n",
    "                # input_ids = inputs['input_ids'].to(device).squeeze()  # 或不 squeeze\n",
    "                input_ids = batch['input_ids'].to(device)\n",
    "                masks = batch['attention_mask'].to(device) # torch.Size([32, 1, 35])\n",
    "                try:\n",
    "                    labels = batch['labels'].to(device)\n",
    "                    output = model(input_ids, masks)\n",
    "            \n",
    "                except:\n",
    "                    print(labels)\n",
    "    \n",
    "                batch_loss = criterion(output, labels)\n",
    "                acc = (output.argmax(dim=1) == labels).sum().item()\n",
    "                total_acc_val += acc\n",
    "                total_loss_val += batch_loss.item()\n",
    "            \n",
    "            print(f'''Epochs: {epoch_num + 1} \n",
    "              | Train Loss: {total_loss_train / len(train_dataset): .3f} \n",
    "              | Train Accuracy: {total_acc_train / len(train_dataset): .3f} \n",
    "              | Val Loss: {total_loss_val / len(dev_dataset): .3f} \n",
    "              | Val Accuracy: {total_acc_val / len(dev_dataset): .3f}''')\n",
    "            \n",
    "            # 保存最优的模型\n",
    "            if total_acc_val / len(dev_dataset) > best_dev_acc:\n",
    "                best_dev_acc = total_acc_val / len(dev_dataset)\n",
    "                print(f\"best_dev_acc:{best_dev_acc}, lr:{lr}, epoch:{epoch_num + 1}\")\n",
    "                save_model('best.pt')\n",
    "        model.train()\n",
    "    print(f\"best_dev_acc:{best_dev_acc}, lr:{lr}\")\n",
    "    totals_acc_val.append(best_dev_acc)\n",
    "\n",
    "# 保存最后的模型，以便继续训练\n",
    "save_model('last.pt')\n",
    "# todo 保存优化器\n"
   ]
  },
  {
   "cell_type": "code",
   "execution_count": 42,
   "id": "f1b99f90-b46c-4762-b482-b6116471976e",
   "metadata": {},
   "outputs": [
    {
     "data": {
      "image/png": "[encoded data removed]",
      "text/plain": [
       "<Figure size 640x480 with 1 Axes>"
      ]
     },
     "metadata": {},
     "output_type": "display_data"
    }
   ],
   "source": [
    "import matplotlib.pyplot as plt\n",
    "import numpy as np\n",
    "\n",
    "# print(lrs.sort())\n",
    "# print(totals_acc_val)\n",
    "plt.plot(sorted(lrs), totals_acc_val, 'b*--', alpha=0.5, linewidth=1, label='dev_acc')#'bo-'表示蓝色实线，数据点实心原点标注\n",
    "## plot中参数的含义分别是横轴值，纵轴值，线的形状（'s'方块,'o'实心圆点，'*'五角星   ...，颜色，透明度,线的宽度和标签 ，\n",
    "\n",
    "plt.legend()  #显示上面的label\n",
    "plt.xlabel('lr') #x_label\n",
    "plt.ylabel('dev_acc')#y_label\n",
    " \n",
    "#plt.ylim(-1,1)#仅设置y轴坐标范围\n",
    "# plt.savefig('./data/rumor/lr_dev_acc.jpg')\n",
    "plt.show()"
   ]
  },
  {
   "cell_type": "code",
   "execution_count": 43,
   "id": "6114b400-1576-4bd9-8111-83a021f5f0c2",
   "metadata": {},
   "outputs": [
    {
     "name": "stdout",
     "output_type": "stream",
     "text": [
      "重新加载best model\n"
     ]
    }
   ],
   "source": [
    "import torch\n",
    "import torch.nn as nn\n",
    "from torch.utils.data import DataLoader\n",
    "from transformers import BertModel\n",
    "from sklearn.metrics import classification_report, confusion_matrix, accuracy_score\n",
    "import matplotlib.pyplot as plt\n",
    "import seaborn as sns\n",
    "import pandas as pd\n",
    "\n",
    "# ====== 1. 定义 BertClassifier 类（保持和训练时一致） ======\n",
    "from transformers import RobertaModel\n",
    "from torch import nn\n",
    "class BertClassifier(nn.Module):\n",
    "    def __init__(self, pretrained_path=BERT_PATH, dropout_prob=0.5, num_classes=3):\n",
    "        super(BertClassifier, self).__init__()\n",
    "        self.roberta = RobertaModel.from_pretrained(pretrained_path)\n",
    "        self.dropout = nn.Dropout(dropout_prob)\n",
    "        self.classifier = nn.Linear(self.roberta.config.hidden_size, num_classes)\n",
    "\n",
    "    def forward(self, input_ids, attention_mask):\n",
    "        outputs = self.roberta(input_ids=input_ids, attention_mask=attention_mask)\n",
    "        pooled_output = outputs.last_hidden_state[:, 0, :]  # 使用 [CLS] token\n",
    "        pooled_output = self.dropout(pooled_output)\n",
    "        return self.classifier(pooled_output)\n",
    "\n",
    "# ====== 2. 加载模型 ======\n",
    "device = torch.device(\"cuda\" if torch.cuda.is_available() else \"cpu\")\n",
    "model = BertClassifier()\n",
    "checkpoint_path = r\"C:\\Users\\supervisor\\Desktop\\对华情感研究项目 zhenfeng zhou\\网络舆情作业\\新一轮对华情感预测\\bert_checkpoint\\best.pt\"\n",
    "model.load_state_dict(torch.load(checkpoint_path, map_location=device))\n",
    "model.to(device)\n",
    "model.eval()\n",
    "\n",
    "print(\"重新加载best model\")"
   ]
  },
  {
   "cell_type": "code",
   "execution_count": 44,
   "id": "0b593c79-a1ad-49b8-b931-a295a0db3fa3",
   "metadata": {},
   "outputs": [
    {
     "name": "stdout",
     "output_type": "stream",
     "text": [
      "Test Accuracy:  0.644\n",
      "\n",
      "Classification Report:\n",
      "              precision    recall  f1-score   support\n",
      "\n",
      "     neutral     0.4747    0.5875    0.5251        80\n",
      "    positive     0.7933    0.7083    0.7484       168\n",
      "    negative     0.5851    0.5789    0.5820        95\n",
      "\n",
      "    accuracy                         0.6443       343\n",
      "   macro avg     0.6177    0.6249    0.6185       343\n",
      "weighted avg     0.6614    0.6443    0.6503       343\n",
      "\n"
     ]
    },
    {
     "data": {
      "image/png": "[encoded data removed]",
      "text/plain": [
       "<Figure size 600x500 with 2 Axes>"
      ]
     },
     "metadata": {},
     "output_type": "display_data"
    }
   ],
   "source": [
    "from sklearn.metrics import classification_report, confusion_matrix, accuracy_score\n",
    "import matplotlib.pyplot as plt\n",
    "import seaborn as sns\n",
    "\n",
    "def evaluate(model, dataset):\n",
    "    model.eval()\n",
    "    test_loader = DataLoader(dataset, batch_size=128)\n",
    "\n",
    "    total_acc_test = 0\n",
    "    all_preds = []\n",
    "    all_labels = []\n",
    "\n",
    "    with torch.no_grad():\n",
    "        for batch in test_loader:\n",
    "            input_id = batch['input_ids'].squeeze(1).to(device)\n",
    "            mask = batch['attention_mask'].to(device)\n",
    "            test_label = batch['labels'].to(device)\n",
    "\n",
    "            output = model(input_id, mask)\n",
    "            preds = output.argmax(dim=1)\n",
    "\n",
    "            acc = (preds == test_label).sum().item()\n",
    "            total_acc_test += acc\n",
    "\n",
    "            all_preds.extend(preds.cpu().numpy())\n",
    "            all_labels.extend(test_label.cpu().numpy())\n",
    "\n",
    "    # 准确率\n",
    "    accuracy = total_acc_test / len(dataset)\n",
    "    print(f'Test Accuracy: {accuracy: .3f}\\n')\n",
    "\n",
    "    # 分类报告\n",
    "    print(\"Classification Report:\")\n",
    "    print(classification_report(all_labels, all_preds, digits=4, target_names=[\"neutral\", \"positive\", \"negative\"]))\n",
    "\n",
    "    # 混淆矩阵可视化\n",
    "    cm = confusion_matrix(all_labels, all_preds)\n",
    "    plt.figure(figsize=(6, 5))\n",
    "    sns.heatmap(cm, annot=True, fmt='d', cmap='Blues',\n",
    "                xticklabels=[\"neutral\", \"positive\", \"negative\"],\n",
    "                yticklabels=[\"neutral\", \"positive\", \"negative\"])\n",
    "    plt.xlabel(\"Predicted Label\")\n",
    "    plt.ylabel(\"True Label\")\n",
    "    plt.title(\"Confusion Matrix\")\n",
    "    plt.tight_layout()\n",
    "    plt.show()\n",
    "evaluate(model, test_dataset)"
   ]
  },
  {
   "cell_type": "markdown",
   "id": "25b710ce-c5b6-4fbd-b487-4675a355be4c",
   "metadata": {},
   "source": [
    "## gpt打标结果 (用的“1”，和“2”开头的全部数据，没有LLM数据增强）"
   ]
  },
  {
   "cell_type": "markdown",
   "id": "fa236a92-f103-4e97-b25b-c5949d0b8d5f",
   "metadata": {},
   "source": [
    "#### 注释：为了与本科生打标数据及训练结果相比较，测试了只“2”开头的数据并使用了LLM数据增强，dev准确率能达到0.77，test准确率达到0.708,同等条件下比本科生人工打标的准确率高，说明人工打标可能需要再check一下。"
   ]
  },
  {
   "cell_type": "markdown",
   "id": "738bdc06-67fd-4c8e-929f-df1df7399627",
   "metadata": {},
   "source": [
    "### 利用gpt打标"
   ]
  },
  {
   "cell_type": "code",
   "execution_count": 16,
   "id": "07df5966-4aa8-4fd9-af16-5750e5c3522c",
   "metadata": {},
   "outputs": [],
   "source": [
    "# import pandas as pd\n",
    "# from openai import OpenAI\n",
    "# from tqdm import tqdm\n",
    "# import time\n",
    "\n",
    "# # 初始化 OpenAI 客户端\n",
    "# client = OpenAI(api_key)\n",
    "\n",
    "# # 输入输出文件\n",
    "# input_file = r\"D:\\研二上 课程\\网络舆情课程\\网络舆情作业\\新一轮对华情感预测\\标签的数据 乱码 第二轮 sum.xlsx\"\n",
    "# output_file = r\"D:\\研二上 课程\\网络舆情课程\\网络舆情作业\\新一轮对华情感预测\\标签的数据 乱码 第二轮 sum_with_gptlabel.xlsx\"\n",
    "\n",
    "# # 读取 Excel 文件\n",
    "# df = pd.read_excel(input_file)\n",
    "\n",
    "# # 检查列\n",
    "# if 'Content_new' not in df.columns:\n",
    "#     raise ValueError(\"Excel 文件中未找到 'Content_new' 列\")\n",
    "\n",
    "# # 定义 Prompt\n",
    "# prompt_template = \"\"\"\n",
    "# You are an assistant helping to classify tweets about China into three categories:\n",
    "# Output only one number: 1 = Positive, 2 = Negative, 0 = Neutral.\n",
    "# Do not output anything else.\n",
    "\n",
    "# ### Rules:\n",
    "# - Positive (1): The tweet explicitly praises China, its government, policies, economy, culture, or achievements. Shows admiration or support for China, etc.\n",
    "# - Negative (2): The tweet criticizes, mocks, or shows hostility towards China, its government, policies, or people. Includes conspiracy, insults, or negative comparisons, etc.\n",
    "# - Neutral (0): The tweet does not express clear positive or negative emotion towards China, or it's focused on another country without judging China, etc.\n",
    "\n",
    "# Text:\n",
    "# {content}\n",
    "# \"\"\"\n",
    "\n",
    "# results = []\n",
    "# valid_labels = {\"0\", \"1\", \"2\"}\n",
    "\n",
    "# # 调用 GPT API\n",
    "# for text in tqdm(df['Content_new'], desc=\"Processing\"):\n",
    "#     try:\n",
    "#         user_prompt = prompt_template.format(content=text)\n",
    "#         response = client.chat.completions.create(\n",
    "#             model=\"gpt-4o-mini\",\n",
    "#             messages=[{\"role\": \"user\", \"content\": user_prompt}],\n",
    "#             temperature=0\n",
    "#         )\n",
    "#         label = response.choices[0].message.content.strip()\n",
    "#         if label not in valid_labels:\n",
    "#             label = \"error\"\n",
    "#         results.append(label)\n",
    "#         time.sleep(0.8)  # 避免速率限制\n",
    "#     except Exception as e:\n",
    "#         print(f\"Error processing text: {e}\")\n",
    "#         results.append(\"error\")\n",
    "\n",
    "# # 添加结果列\n",
    "# df['GPT_label'] = results\n",
    "\n",
    "# # 保存结果\n",
    "# df.to_excel(output_file, index=False)\n",
    "# print(f\"处理完成，结果已保存至：{output_file}\")"
   ]
  },
  {
   "cell_type": "markdown",
   "id": "b9e4dc0a-0e0c-484f-a8b4-c9c226e91b9a",
   "metadata": {},
   "source": [
    "### gpt打标与人工打标的一致性比较，Cohen's Kappa: 0.2784,说明人工和gpt打标的差异比较大。"
   ]
  },
  {
   "cell_type": "code",
   "execution_count": 17,
   "id": "a463ddc7-c0e1-406e-8da2-3300dda8944d",
   "metadata": {},
   "outputs": [
    {
     "name": "stdout",
     "output_type": "stream",
     "text": [
      "CHNEMO\n",
      "1    1564\n",
      "2    1115\n",
      "0     967\n",
      "Name: count, dtype: int64\n",
      "信息的对华情感\n",
      "积极    1564\n",
      "消极    1115\n",
      "无      967\n",
      "Name: count, dtype: int64\n",
      "GPT_label\n",
      "0    1676\n",
      "2    1291\n",
      "1     679\n",
      "Name: count, dtype: int64\n"
     ]
    },
    {
     "name": "stderr",
     "output_type": "stream",
     "text": [
      "C:\\Users\\supervisor\\AppData\\Local\\Temp\\ipykernel_3424\\3672042334.py:7: FutureWarning: A value is trying to be set on a copy of a DataFrame or Series through chained assignment using an inplace method.\n",
      "The behavior will change in pandas 3.0. This inplace method will never work because the intermediate object on which we are setting values always behaves as a copy.\n",
      "\n",
      "For example, when doing 'df[col].method(value, inplace=True)', try using 'df.method({col: value}, inplace=True)' or df[col] = df[col].method(value) instead, to perform the operation inplace on the original object.\n",
      "\n",
      "\n",
      "  file[\"CHNEMO\"].replace([0, 1, -1], [0, 1, 2], inplace=True)\n"
     ]
    },
    {
     "data": {
      "text/html": [
       "<div>\n",
       "<style scoped>\n",
       "    .dataframe tbody tr th:only-of-type {\n",
       "        vertical-align: middle;\n",
       "    }\n",
       "\n",
       "    .dataframe tbody tr th {\n",
       "        vertical-align: top;\n",
       "    }\n",
       "\n",
       "    .dataframe thead th {\n",
       "        text-align: right;\n",
       "    }\n",
       "</style>\n",
       "<table border=\"1\" class=\"dataframe\">\n",
       "  <thead>\n",
       "    <tr style=\"text-align: right;\">\n",
       "      <th></th>\n",
       "      <th>data_row</th>\n",
       "      <th>Area</th>\n",
       "      <th>KeyWords</th>\n",
       "      <th>Name</th>\n",
       "      <th>Verified</th>\n",
       "      <th>Language</th>\n",
       "      <th>Content_new</th>\n",
       "      <th>信息的对华情感</th>\n",
       "      <th>CHNEMO</th>\n",
       "      <th>信息的私人情感（不指向CHN）</th>\n",
       "      <th>PE</th>\n",
       "      <th>作者是机构的可能性</th>\n",
       "      <th>ORG</th>\n",
       "      <th>train_predict</th>\n",
       "      <th>GPT_label</th>\n",
       "    </tr>\n",
       "  </thead>\n",
       "  <tbody>\n",
       "    <tr>\n",
       "      <th>0</th>\n",
       "      <td>10001</td>\n",
       "      <td>军事</td>\n",
       "      <td>china cyber attack</td>\n",
       "      <td>jono</td>\n",
       "      <td>t</td>\n",
       "      <td>en</td>\n",
       "      <td>Breaking: Foreign Government (China) Hacked Tr...</td>\n",
       "      <td>积极</td>\n",
       "      <td>1</td>\n",
       "      <td>消极</td>\n",
       "      <td>-1</td>\n",
       "      <td>1不确定</td>\n",
       "      <td>1</td>\n",
       "      <td>train</td>\n",
       "      <td>2</td>\n",
       "    </tr>\n",
       "    <tr>\n",
       "      <th>1</th>\n",
       "      <td>10002</td>\n",
       "      <td>军事</td>\n",
       "      <td>china cyber attack</td>\n",
       "      <td>Blutkanzlerin AngelaMerkel</td>\n",
       "      <td>f</td>\n",
       "      <td>en</td>\n",
       "      <td>German gov summons #China ambassador to compla...</td>\n",
       "      <td>消极</td>\n",
       "      <td>2</td>\n",
       "      <td>无</td>\n",
       "      <td>0</td>\n",
       "      <td>1不确定</td>\n",
       "      <td>1</td>\n",
       "      <td>train</td>\n",
       "      <td>2</td>\n",
       "    </tr>\n",
       "  </tbody>\n",
       "</table>\n",
       "</div>"
      ],
      "text/plain": [
       "  data_row Area            KeyWords                        Name Verified  \\\n",
       "0    10001   军事  china cyber attack                        jono        t   \n",
       "1    10002   军事  china cyber attack  Blutkanzlerin AngelaMerkel        f   \n",
       "\n",
       "  Language                                        Content_new 信息的对华情感  CHNEMO  \\\n",
       "0       en  Breaking: Foreign Government (China) Hacked Tr...      积极       1   \n",
       "1       en  German gov summons #China ambassador to compla...      消极       2   \n",
       "\n",
       "  信息的私人情感（不指向CHN）  PE 作者是机构的可能性  ORG train_predict  GPT_label  \n",
       "0              消极  -1      1不确定    1         train          2  \n",
       "1               无   0      1不确定    1         train          2  "
      ]
     },
     "execution_count": 17,
     "metadata": {},
     "output_type": "execute_result"
    }
   ],
   "source": [
    "import pandas as pd\n",
    "file = pd.read_excel(r'C:\\Users\\supervisor\\Desktop\\对华情感研究项目 zhenfeng zhou\\网络舆情作业\\新一轮对华情感预测\\data\\标签的数据 乱码 第二轮 sum_with_gptlabel.xlsx')\n",
    "\n",
    "# 过滤保留以 \"1\"'2' 开头的行\n",
    "file['data_row'] = file['data_row'].astype(str)\n",
    "# file = file[file['data_row'].str.startswith('2')]\n",
    "file[\"CHNEMO\"].replace([0, 1, -1], [0, 1, 2], inplace=True)\n",
    "\n",
    "print(file['CHNEMO'].value_counts())\n",
    "print(file['信息的对华情感'].value_counts())\n",
    "print(file[\"GPT_label\"].value_counts())\n",
    "file.head(2)"
   ]
  },
  {
   "cell_type": "code",
   "execution_count": 18,
   "id": "175351c9-0add-4fd8-9e4f-353b4bd4e2ff",
   "metadata": {},
   "outputs": [
    {
     "name": "stdout",
     "output_type": "stream",
     "text": [
      "Accuracy: 0.5022\n",
      "Cohen's Kappa: 0.2784\n",
      "              precision    recall  f1-score   support\n",
      "\n",
      "     Neutral       0.35      0.61      0.45       967\n",
      "    Positive       0.77      0.34      0.47      1564\n",
      "    Negative       0.55      0.64      0.59      1115\n",
      "\n",
      "    accuracy                           0.50      3646\n",
      "   macro avg       0.56      0.53      0.50      3646\n",
      "weighted avg       0.59      0.50      0.50      3646\n",
      "\n"
     ]
    },
    {
     "data": {
      "image/png": "[encoded data removed]",
      "text/plain": [
       "<Figure size 640x480 with 2 Axes>"
      ]
     },
     "metadata": {},
     "output_type": "display_data"
    }
   ],
   "source": [
    "import pandas as pd\n",
    "from sklearn.metrics import accuracy_score, cohen_kappa_score, classification_report, confusion_matrix\n",
    "import seaborn as sns\n",
    "import matplotlib.pyplot as plt\n",
    "\n",
    "# 提取人工标签和 GPT 标签\n",
    "human_labels = file['CHNEMO']  # 或 '信息的对华情感'\n",
    "gpt_labels = file['GPT_label']\n",
    "\n",
    "# 转换成 int\n",
    "human_labels = human_labels.astype(int)\n",
    "gpt_labels = gpt_labels.astype(int)\n",
    "\n",
    "# 计算一致率\n",
    "accuracy = accuracy_score(human_labels, gpt_labels)\n",
    "\n",
    "# 计算 Cohen's Kappa\n",
    "kappa = cohen_kappa_score(human_labels, gpt_labels)\n",
    "\n",
    "# 分类报告\n",
    "report = classification_report(human_labels, gpt_labels, target_names=['Neutral', 'Positive', 'Negative'])\n",
    "\n",
    "print(f\"Accuracy: {accuracy:.4f}\")\n",
    "print(f\"Cohen's Kappa: {kappa:.4f}\")\n",
    "print(report)\n",
    "\n",
    "# 可视化混淆矩阵\n",
    "cm = confusion_matrix(human_labels, gpt_labels)\n",
    "sns.heatmap(cm, annot=True, fmt='d', cmap='Blues', xticklabels=['Neutral','Positive','Negative'], yticklabels=['Neutral','Positive','Negative'])\n",
    "plt.xlabel('GPT Labels')\n",
    "plt.ylabel('Human Labels')\n",
    "plt.title('Confusion Matrix: Human vs GPT')\n",
    "plt.show()"
   ]
  },
  {
   "cell_type": "markdown",
   "id": "bf7730fb-88ff-4f05-98c6-a73f9c8ce83f",
   "metadata": {},
   "source": [
    "### 用gpt打标的数据来训练"
   ]
  },
  {
   "cell_type": "code",
   "execution_count": 19,
   "id": "ff8e0346-1b7c-4610-82f2-ad7cf7b052d3",
   "metadata": {},
   "outputs": [
    {
     "name": "stdout",
     "output_type": "stream",
     "text": [
      "Train: GPT_label\n",
      "0    1173\n",
      "2     904\n",
      "1     475\n",
      "Name: count, dtype: int64\n",
      "Dev: GPT_label\n",
      "0    251\n",
      "2    194\n",
      "1    102\n",
      "Name: count, dtype: int64\n",
      "Test: GPT_label\n",
      "0    252\n",
      "2    193\n",
      "1    102\n",
      "Name: count, dtype: int64\n"
     ]
    }
   ],
   "source": [
    "from sklearn.model_selection import train_test_split\n",
    "\n",
    "# 筛选有效数据\n",
    "file = file[['Content_new', 'GPT_label']].fillna('not')\n",
    "total_text = file[file[\"GPT_label\"] != 'not'].copy()\n",
    "\n",
    "# 替换标签值\n",
    "# total_text[\"GPT_label\"].replace([0, 1, -1], [0, 1, 2], inplace=True)\n",
    "total_text = total_text.sample(frac=1, random_state=42).reset_index(drop=True)\n",
    "\n",
    "# 第一步：划分出 70% 训练集 + 30% (验证 + 测试)\n",
    "train_text, temp_text = train_test_split(\n",
    "    total_text,\n",
    "    test_size=0.3,\n",
    "    stratify=total_text['GPT_label'],\n",
    "    random_state=42)\n",
    "\n",
    "# 第二步：将30%的部分再划分成15%验证 + 15%测试\n",
    "dev_text, test_text = train_test_split(\n",
    "    temp_text,\n",
    "    test_size=0.5,\n",
    "    stratify=temp_text['GPT_label'],\n",
    "    random_state=42)\n",
    "\n",
    "# 打乱顺序（可选）\n",
    "train_text = train_text.sample(frac=1, random_state=42).reset_index(drop=True)\n",
    "dev_text = dev_text.sample(frac=1, random_state=42).reset_index(drop=True)\n",
    "test_text = test_text.sample(frac=1, random_state=42).reset_index(drop=True)\n",
    "\n",
    "# 保存到本地（如果需要）\n",
    "\n",
    "train_text.to_csv(r'C:\\Users\\supervisor\\Desktop\\对华情感研究项目 zhenfeng zhou\\网络舆情作业\\新一轮对华情感预测\\data\\gpt 训练\\train.csv', index=False, encoding='utf-8')\n",
    "dev_text.to_csv(r'C:\\Users\\supervisor\\Desktop\\对华情感研究项目 zhenfeng zhou\\网络舆情作业\\新一轮对华情感预测\\data\\gpt 训练\\dev.csv', index=False, encoding='utf-8')\n",
    "test_text.to_csv(r'C:\\Users\\supervisor\\Desktop\\对华情感研究项目 zhenfeng zhou\\网络舆情作业\\新一轮对华情感预测\\data\\gpt 训练\\test.csv', index=False, encoding='utf-8')\n",
    "\n",
    "\n",
    "# 查看数量\n",
    "print(\"Train:\", train_text['GPT_label'].value_counts())\n",
    "print(\"Dev:\", dev_text['GPT_label'].value_counts())\n",
    "print(\"Test:\", test_text['GPT_label'].value_counts())"
   ]
  },
  {
   "cell_type": "code",
   "execution_count": 8,
   "id": "9025dda7-3f57-43a3-8f44-3d165af4f357",
   "metadata": {},
   "outputs": [],
   "source": [
    "# import os\n",
    "# import json\n",
    "# from tqdm import tqdm\n",
    "# from openai import OpenAI\n",
    "# import pandas as pd\n",
    "\n",
    "# # 配置OpenAI客户端（新版本API要求）\n",
    "# client = OpenAI(api_key)\n",
    "\n",
    "# template = \"\"\"Task: I will give you a text and its emotional type. Please rewrite it. Please strictly follow the following requirements.\n",
    "# Requirements:\n",
    "# - The original text's emotional category for China must be completely retained (1 for positive emotion, 2 for negative emotion, 0 for no emotion). No change in emotional polarity is allowed.\n",
    "# - Just change its language style to make it look more real and in line with reading habits.\n",
    "# - It is forbidden to add content unrelated to the original text. Make sure that the rewrite revolves around the same event or topic before and after, and is consistent with the original meaning.\n",
    "# Twitter text：{text}\n",
    "# Types of Emotions: {label}\"\"\"\n",
    "\n",
    "# # 读取训练数据\n",
    "# # all_datas_text = open(r\"C:\\Users\\supervisor\\Desktop\\对华情感研究项目 zhenfeng zhou\\网络舆情作业\\新一轮对华情感预测\\data\\train.csv\", 'r', encoding='utf-8').readlines()[1:]\n",
    "# # # all_datas = [x.rsplit(',', 1) for x in all_datas_text][:2]\n",
    "# # all_datas = [x.rsplit(',', 1) for x in all_datas_text]\n",
    "\n",
    "# # 读取 CSV 文件，自动识别列\n",
    "# all_datas = pd.read_csv(r\"C:\\Users\\supervisor\\Desktop\\对华情感研究项目 zhenfeng zhou\\网络舆情作业\\新一轮对华情感预测\\data\\gpt 训练\\train.csv\", encoding='utf-8')\n",
    "# all_datas = list(zip(all_datas['Content_new'], all_datas['GPT_label']))\n",
    "\n",
    "# output_file = r\"C:\\Users\\supervisor\\Desktop\\对华情感研究项目 zhenfeng zhou\\网络舆情作业\\新一轮对华情感预测\\data\\gpt 训练\\train_aug.jsonl\"\n",
    "# num = len(open(output_file, 'r', encoding='utf-8').readlines()) if os.path.exists(output_file) else 0\n",
    "\n",
    "# all_results = []\n",
    "# for idx, (text, label) in enumerate(tqdm(all_datas)):\n",
    "#     # print(f\"processed {idx} / {len(all_datas)}\")\n",
    "#     # print(text, label)\n",
    "    \n",
    "#     if idx < num:\n",
    "#         continue\n",
    "    \n",
    "#     user_prompt = template.format(text=text, label=label)\n",
    "    \n",
    "#     # 使用新版API调用模型\n",
    "#     try:\n",
    "#         response = client.chat.completions.create(\n",
    "#             model=\"gpt-4o-mini\",\n",
    "#             messages=[{\"role\": \"user\", \"content\": user_prompt}],\n",
    "#             temperature=0.7,\n",
    "#         )\n",
    "#         aug_text = response.choices[0].message.content\n",
    "#         # print(aug_text)\n",
    "        \n",
    "#         data = {\"Content_new\": aug_text, \"GPT_label\": label}\n",
    "#         with open(output_file, 'a', encoding='utf-8') as f:\n",
    "#             f.write(json.dumps(data, ensure_ascii=False) + '\\n')\n",
    "            \n",
    "#     except Exception as e:\n",
    "#         print(f\"Error processing sample {idx}: {e}\")\n",
    "#         continue\n",
    "\n",
    "# # 转换为CSV格式\n",
    "# aug_datas = open(r\"C:\\Users\\supervisor\\Desktop\\对华情感研究项目 zhenfeng zhou\\网络舆情作业\\新一轮对华情感预测\\data\\gpt 训练\\train_aug.jsonl\", 'r', encoding='utf-8').readlines()\n",
    "# aug_datas = [json.loads(x) for x in aug_datas]\n",
    "# pd.DataFrame(aug_datas).to_csv(r'C:\\Users\\supervisor\\Desktop\\对华情感研究项目 zhenfeng zhou\\网络舆情作业\\新一轮对华情感预测\\data\\gpt 训练\\train_aug.csv', index=False, encoding='utf-8')"
   ]
  },
  {
   "cell_type": "code",
   "execution_count": 20,
   "id": "ec2693e3-8483-4a2d-9200-eac9bba26435",
   "metadata": {},
   "outputs": [
    {
     "data": {
      "text/html": [
       "<div>\n",
       "<style scoped>\n",
       "    .dataframe tbody tr th:only-of-type {\n",
       "        vertical-align: middle;\n",
       "    }\n",
       "\n",
       "    .dataframe tbody tr th {\n",
       "        vertical-align: top;\n",
       "    }\n",
       "\n",
       "    .dataframe thead th {\n",
       "        text-align: right;\n",
       "    }\n",
       "</style>\n",
       "<table border=\"1\" class=\"dataframe\">\n",
       "  <thead>\n",
       "    <tr style=\"text-align: right;\">\n",
       "      <th></th>\n",
       "      <th>text</th>\n",
       "      <th>label</th>\n",
       "    </tr>\n",
       "  </thead>\n",
       "  <tbody>\n",
       "    <tr>\n",
       "      <th>0</th>\n",
       "      <td>I believe China will invade Taiwan after the R...</td>\n",
       "      <td>2</td>\n",
       "    </tr>\n",
       "    <tr>\n",
       "      <th>1</th>\n",
       "      <td>According to two three separate cyber attack m...</td>\n",
       "      <td>0</td>\n",
       "    </tr>\n",
       "    <tr>\n",
       "      <th>2</th>\n",
       "      <td>What happened to my body my choice! I live in ...</td>\n",
       "      <td>2</td>\n",
       "    </tr>\n",
       "    <tr>\n",
       "      <th>3</th>\n",
       "      <td>Six of the most beautiful sections of the Grea...</td>\n",
       "      <td>1</td>\n",
       "    </tr>\n",
       "    <tr>\n",
       "      <th>4</th>\n",
       "      <td>This population control will become a disaster...</td>\n",
       "      <td>0</td>\n",
       "    </tr>\n",
       "    <tr>\n",
       "      <th>...</th>\n",
       "      <td>...</td>\n",
       "      <td>...</td>\n",
       "    </tr>\n",
       "    <tr>\n",
       "      <th>2547</th>\n",
       "      <td>Tencent's big new survival game looks like Pal...</td>\n",
       "      <td>0</td>\n",
       "    </tr>\n",
       "    <tr>\n",
       "      <th>2548</th>\n",
       "      <td>Welcome to consult China export Brazil sea fre...</td>\n",
       "      <td>0</td>\n",
       "    </tr>\n",
       "    <tr>\n",
       "      <th>2549</th>\n",
       "      <td>We have a housing shortage. China has a housin...</td>\n",
       "      <td>0</td>\n",
       "    </tr>\n",
       "    <tr>\n",
       "      <th>2550</th>\n",
       "      <td>Chinese young generation of athletes made a sp...</td>\n",
       "      <td>1</td>\n",
       "    </tr>\n",
       "    <tr>\n",
       "      <th>2551</th>\n",
       "      <td>So China won that gold and beat the USA in the...</td>\n",
       "      <td>1</td>\n",
       "    </tr>\n",
       "  </tbody>\n",
       "</table>\n",
       "<p>2552 rows × 2 columns</p>\n",
       "</div>"
      ],
      "text/plain": [
       "                                                   text  label\n",
       "0     I believe China will invade Taiwan after the R...      2\n",
       "1     According to two three separate cyber attack m...      0\n",
       "2     What happened to my body my choice! I live in ...      2\n",
       "3     Six of the most beautiful sections of the Grea...      1\n",
       "4     This population control will become a disaster...      0\n",
       "...                                                 ...    ...\n",
       "2547  Tencent's big new survival game looks like Pal...      0\n",
       "2548  Welcome to consult China export Brazil sea fre...      0\n",
       "2549  We have a housing shortage. China has a housin...      0\n",
       "2550  Chinese young generation of athletes made a sp...      1\n",
       "2551  So China won that gold and beat the USA in the...      1\n",
       "\n",
       "[2552 rows x 2 columns]"
      ]
     },
     "execution_count": 20,
     "metadata": {},
     "output_type": "execute_result"
    }
   ],
   "source": [
    "import pandas as pd\n",
    "\n",
    "# 本地数据地址\n",
    "train_data_path = r'C:\\Users\\supervisor\\Desktop\\对华情感研究项目 zhenfeng zhou\\网络舆情作业\\新一轮对华情感预测\\data\\gpt 训练\\train.csv'\n",
    "# train_aug_path = r'C:\\Users\\supervisor\\Desktop\\对华情感研究项目 zhenfeng zhou\\网络舆情作业\\新一轮对华情感预测\\data\\gpt 训练\\train_aug.csv'\n",
    "dev_data_path = r'C:\\Users\\supervisor\\Desktop\\对华情感研究项目 zhenfeng zhou\\网络舆情作业\\新一轮对华情感预测\\data\\gpt 训练\\dev.csv'\n",
    "test_data_path = r'C:\\Users\\supervisor\\Desktop\\对华情感研究项目 zhenfeng zhou\\网络舆情作业\\新一轮对华情感预测\\data\\gpt 训练\\test.csv'\n",
    "# label_path = 'data/rumor/type.txt'\n",
    "\n",
    "# 读取数据\n",
    "train_df = pd.read_csv(train_data_path, header=0)\n",
    "# train_aug = pd.read_csv(train_aug_path, header=0)\n",
    "dev_df = pd.read_csv(dev_data_path, header=0)\n",
    "test_df = pd.read_csv(test_data_path, header=0)\n",
    "\n",
    "# train_df = pd.concat([train_df, train_aug]).sample(frac=1).reset_index(drop=True)\n",
    "# train_df\n",
    "\n",
    "# 更改列名\n",
    "new_columns = ['text', 'label']  \n",
    "train_df = train_df.rename(columns=dict(zip(train_df.columns, new_columns)))\n",
    "dev_df = dev_df.rename(columns=dict(zip(dev_df.columns, new_columns)))\n",
    "test_df = test_df.rename(columns=dict(zip(test_df.columns, new_columns)))\n",
    "\n",
    "# 读取标签\n",
    "# real_labels = []\n",
    "# with open('data/rumor/type.txt', 'r', encoding='utf-8') as f:\n",
    "#     for row in f.readlines():\n",
    "#         real_labels.append(row.strip())\n",
    "# # test_df,real_labels\n",
    "train_df"
   ]
  },
  {
   "cell_type": "code",
   "execution_count": 21,
   "id": "02ef6826-c67c-4b8f-9add-c8c314677f49",
   "metadata": {},
   "outputs": [
    {
     "data": {
      "image/png": "[encoded data removed]",
      "text/plain": [
       "<Figure size 640x480 with 1 Axes>"
      ]
     },
     "metadata": {},
     "output_type": "display_data"
    }
   ],
   "source": [
    "import matplotlib.pyplot as plt\n",
    "# 设置全局字体为SimHei，这是一种支持中文的字体  \n",
    "plt.rcParams['font.sans-serif'] = ['SimHei']\n",
    "# 解决保存图像时负号'-'显示为方块的问题  \n",
    "plt.rcParams['axes.unicode_minus'] = False \n",
    "\n",
    "# 计算字符串长度并统计分布  \n",
    "length_counts = train_df['text'].apply(len).value_counts().sort_index()  \n",
    "\n",
    "# 绘制直方图  \n",
    "plt.hist(length_counts.index, bins=len(length_counts), weights=length_counts.values)  \n",
    "plt.xlabel('文本长度')  \n",
    "plt.ylabel('频数')  \n",
    "plt.title('字符串长度分布直方图')  \n",
    "plt.show()"
   ]
  },
  {
   "cell_type": "code",
   "execution_count": 22,
   "id": "63b5fa52-55f8-40c5-bbfd-5f3ae6576db8",
   "metadata": {},
   "outputs": [
    {
     "name": "stderr",
     "output_type": "stream",
     "text": [
      "Special tokens have been added in the vocabulary, make sure the associated word embeddings are fine-tuned or trained.\n"
     ]
    }
   ],
   "source": [
    "# 下载的预训练文件路径\n",
    "BERT_PATH = r'C:\\Users\\supervisor\\Desktop\\对华情感研究项目 zhenfeng zhou\\网络舆情作业\\新一轮对华情感预测\\bertweet-base'\n",
    "\n",
    "from transformers import AutoTokenizer\n",
    "\n",
    "tokenizer = AutoTokenizer.from_pretrained(BERT_PATH, use_fast=True,local_files_only=True )\n"
   ]
  },
  {
   "cell_type": "code",
   "execution_count": 23,
   "id": "652a4ef0-3ee4-4a11-99ef-255380268fed",
   "metadata": {},
   "outputs": [],
   "source": [
    "from torch.utils.data import Dataset, DataLoader\n",
    "import torch\n",
    "from torch.utils.data import Dataset\n",
    "\n",
    "class MyDataset(Dataset):\n",
    "    def __init__(self, df):\n",
    "        self.texts = tokenizer(\n",
    "            df['text'].tolist(),\n",
    "            padding='max_length',\n",
    "            truncation=True,\n",
    "            max_length=128,\n",
    "            return_tensors=\"pt\"\n",
    "        )\n",
    "        self.labels = torch.tensor(df['label'].values, dtype=torch.long)\n",
    "\n",
    "    def __getitem__(self, idx):\n",
    "        return {\n",
    "            'input_ids': self.texts['input_ids'][idx],\n",
    "            'attention_mask': self.texts['attention_mask'][idx],\n",
    "            'labels': self.labels[idx]\n",
    "        }\n",
    "\n",
    "    def __len__(self):\n",
    "        return len(self.labels)\n",
    "\n",
    "# 使用GPU开展任务非常快，非CPU\n",
    "train_dataset = MyDataset(train_df)\n",
    "dev_dataset = MyDataset(dev_df)\n",
    "test_dataset = MyDataset(test_df)"
   ]
  },
  {
   "cell_type": "code",
   "execution_count": 24,
   "id": "9f8810d3-7e04-4b7c-a06a-12ad8dcce1ee",
   "metadata": {},
   "outputs": [],
   "source": [
    "from transformers import RobertaModel\n",
    "from torch import nn\n",
    "class BertClassifier(nn.Module):\n",
    "    def __init__(self, pretrained_path=BERT_PATH, dropout_prob=0.5, num_classes=3):\n",
    "        super(BertClassifier, self).__init__()\n",
    "        self.roberta = RobertaModel.from_pretrained(pretrained_path)\n",
    "        self.dropout = nn.Dropout(dropout_prob)\n",
    "        self.classifier = nn.Linear(self.roberta.config.hidden_size, num_classes)\n",
    "\n",
    "    def forward(self, input_ids, attention_mask):\n",
    "        outputs = self.roberta(input_ids=input_ids, attention_mask=attention_mask)\n",
    "        pooled_output = outputs.last_hidden_state[:, 0, :]  # 使用 [CLS] token\n",
    "        pooled_output = self.dropout(pooled_output)\n",
    "        return self.classifier(pooled_output)"
   ]
  },
  {
   "cell_type": "code",
   "execution_count": 25,
   "id": "638b6cfa-9949-49aa-82bc-0beb8a01a547",
   "metadata": {},
   "outputs": [
    {
     "name": "stderr",
     "output_type": "stream",
     "text": [
      "100%|████████████████████████████████████████████████████████████████████████████████| 160/160 [00:32<00:00,  4.89it/s]\n"
     ]
    },
    {
     "name": "stdout",
     "output_type": "stream",
     "text": [
      "Epochs: 1 \n",
      "              | Train Loss:  0.052 \n",
      "              | Train Accuracy:  0.590 \n",
      "              | Val Loss:  0.042 \n",
      "              | Val Accuracy:  0.660\n",
      "best_dev_acc:0.659963436928702, lr:2e-05, epoch:1\n"
     ]
    },
    {
     "name": "stderr",
     "output_type": "stream",
     "text": [
      "100%|████████████████████████████████████████████████████████████████████████████████| 160/160 [00:33<00:00,  4.81it/s]\n"
     ]
    },
    {
     "name": "stdout",
     "output_type": "stream",
     "text": [
      "Epochs: 2 \n",
      "              | Train Loss:  0.032 \n",
      "              | Train Accuracy:  0.789 \n",
      "              | Val Loss:  0.038 \n",
      "              | Val Accuracy:  0.713\n",
      "best_dev_acc:0.7129798903107861, lr:2e-05, epoch:2\n"
     ]
    },
    {
     "name": "stderr",
     "output_type": "stream",
     "text": [
      "100%|████████████████████████████████████████████████████████████████████████████████| 160/160 [00:33<00:00,  4.79it/s]\n"
     ]
    },
    {
     "name": "stdout",
     "output_type": "stream",
     "text": [
      "Epochs: 3 \n",
      "              | Train Loss:  0.021 \n",
      "              | Train Accuracy:  0.869 \n",
      "              | Val Loss:  0.037 \n",
      "              | Val Accuracy:  0.751\n",
      "best_dev_acc:0.7513711151736746, lr:2e-05, epoch:3\n"
     ]
    },
    {
     "name": "stderr",
     "output_type": "stream",
     "text": [
      "100%|████████████████████████████████████████████████████████████████████████████████| 160/160 [00:33<00:00,  4.78it/s]\n"
     ]
    },
    {
     "name": "stdout",
     "output_type": "stream",
     "text": [
      "Epochs: 4 \n",
      "              | Train Loss:  0.013 \n",
      "              | Train Accuracy:  0.930 \n",
      "              | Val Loss:  0.046 \n",
      "              | Val Accuracy:  0.695\n"
     ]
    },
    {
     "name": "stderr",
     "output_type": "stream",
     "text": [
      "100%|████████████████████████████████████████████████████████████████████████████████| 160/160 [00:33<00:00,  4.77it/s]\n"
     ]
    },
    {
     "name": "stdout",
     "output_type": "stream",
     "text": [
      "Epochs: 5 \n",
      "              | Train Loss:  0.008 \n",
      "              | Train Accuracy:  0.956 \n",
      "              | Val Loss:  0.054 \n",
      "              | Val Accuracy:  0.740\n"
     ]
    },
    {
     "name": "stderr",
     "output_type": "stream",
     "text": [
      "100%|████████████████████████████████████████████████████████████████████████████████| 160/160 [00:33<00:00,  4.79it/s]\n"
     ]
    },
    {
     "name": "stdout",
     "output_type": "stream",
     "text": [
      "Epochs: 6 \n",
      "              | Train Loss:  0.006 \n",
      "              | Train Accuracy:  0.971 \n",
      "              | Val Loss:  0.045 \n",
      "              | Val Accuracy:  0.768\n",
      "best_dev_acc:0.7678244972577697, lr:2e-05, epoch:6\n"
     ]
    },
    {
     "name": "stderr",
     "output_type": "stream",
     "text": [
      "100%|████████████████████████████████████████████████████████████████████████████████| 160/160 [00:33<00:00,  4.79it/s]\n"
     ]
    },
    {
     "name": "stdout",
     "output_type": "stream",
     "text": [
      "Epochs: 7 \n",
      "              | Train Loss:  0.004 \n",
      "              | Train Accuracy:  0.984 \n",
      "              | Val Loss:  0.051 \n",
      "              | Val Accuracy:  0.744\n"
     ]
    },
    {
     "name": "stderr",
     "output_type": "stream",
     "text": [
      "100%|████████████████████████████████████████████████████████████████████████████████| 160/160 [00:33<00:00,  4.79it/s]\n"
     ]
    },
    {
     "name": "stdout",
     "output_type": "stream",
     "text": [
      "Epochs: 8 \n",
      "              | Train Loss:  0.003 \n",
      "              | Train Accuracy:  0.986 \n",
      "              | Val Loss:  0.062 \n",
      "              | Val Accuracy:  0.711\n"
     ]
    },
    {
     "name": "stderr",
     "output_type": "stream",
     "text": [
      "100%|████████████████████████████████████████████████████████████████████████████████| 160/160 [00:33<00:00,  4.79it/s]\n"
     ]
    },
    {
     "name": "stdout",
     "output_type": "stream",
     "text": [
      "Epochs: 9 \n",
      "              | Train Loss:  0.005 \n",
      "              | Train Accuracy:  0.975 \n",
      "              | Val Loss:  0.054 \n",
      "              | Val Accuracy:  0.753\n"
     ]
    },
    {
     "name": "stderr",
     "output_type": "stream",
     "text": [
      "100%|████████████████████████████████████████████████████████████████████████████████| 160/160 [00:33<00:00,  4.79it/s]\n"
     ]
    },
    {
     "name": "stdout",
     "output_type": "stream",
     "text": [
      "Epochs: 10 \n",
      "              | Train Loss:  0.002 \n",
      "              | Train Accuracy:  0.992 \n",
      "              | Val Loss:  0.065 \n",
      "              | Val Accuracy:  0.757\n"
     ]
    },
    {
     "name": "stderr",
     "output_type": "stream",
     "text": [
      "100%|████████████████████████████████████████████████████████████████████████████████| 160/160 [00:33<00:00,  4.80it/s]\n"
     ]
    },
    {
     "name": "stdout",
     "output_type": "stream",
     "text": [
      "Epochs: 11 \n",
      "              | Train Loss:  0.001 \n",
      "              | Train Accuracy:  0.996 \n",
      "              | Val Loss:  0.061 \n",
      "              | Val Accuracy:  0.750\n"
     ]
    },
    {
     "name": "stderr",
     "output_type": "stream",
     "text": [
      "100%|████████████████████████████████████████████████████████████████████████████████| 160/160 [00:33<00:00,  4.80it/s]\n"
     ]
    },
    {
     "name": "stdout",
     "output_type": "stream",
     "text": [
      "Epochs: 12 \n",
      "              | Train Loss:  0.001 \n",
      "              | Train Accuracy:  0.996 \n",
      "              | Val Loss:  0.088 \n",
      "              | Val Accuracy:  0.735\n"
     ]
    },
    {
     "name": "stderr",
     "output_type": "stream",
     "text": [
      "100%|████████████████████████████████████████████████████████████████████████████████| 160/160 [00:33<00:00,  4.81it/s]\n"
     ]
    },
    {
     "name": "stdout",
     "output_type": "stream",
     "text": [
      "Epochs: 13 \n",
      "              | Train Loss:  0.005 \n",
      "              | Train Accuracy:  0.977 \n",
      "              | Val Loss:  0.061 \n",
      "              | Val Accuracy:  0.750\n"
     ]
    },
    {
     "name": "stderr",
     "output_type": "stream",
     "text": [
      "100%|████████████████████████████████████████████████████████████████████████████████| 160/160 [00:33<00:00,  4.81it/s]\n"
     ]
    },
    {
     "name": "stdout",
     "output_type": "stream",
     "text": [
      "Epochs: 14 \n",
      "              | Train Loss:  0.002 \n",
      "              | Train Accuracy:  0.992 \n",
      "              | Val Loss:  0.060 \n",
      "              | Val Accuracy:  0.770\n",
      "best_dev_acc:0.7696526508226691, lr:2e-05, epoch:14\n"
     ]
    },
    {
     "name": "stderr",
     "output_type": "stream",
     "text": [
      "100%|████████████████████████████████████████████████████████████████████████████████| 160/160 [00:33<00:00,  4.83it/s]\n"
     ]
    },
    {
     "name": "stdout",
     "output_type": "stream",
     "text": [
      "Epochs: 15 \n",
      "              | Train Loss:  0.003 \n",
      "              | Train Accuracy:  0.981 \n",
      "              | Val Loss:  0.073 \n",
      "              | Val Accuracy:  0.695\n",
      "best_dev_acc:0.7696526508226691, lr:2e-05\n"
     ]
    }
   ],
   "source": [
    "import torch\n",
    "from torch.optim import Adam\n",
    "from tqdm import tqdm\n",
    "import numpy as np\n",
    "import random\n",
    "import os\n",
    "from sklearn.utils.class_weight import compute_class_weight\n",
    "\n",
    "# 训练超参数\n",
    "epoch = 15\n",
    "batch_size = 16\n",
    "# lrs = [5e-6, 1e-5, 2e-5, 5e-5, 1e-4]  \n",
    "lrs = [2e-5]\n",
    "totals_acc_val = []\n",
    "device = torch.device(\"cuda:0\" if torch.cuda.is_available() else \"cpu\")\n",
    "random_seed = 1999\n",
    "save_path = r'C:\\Users\\supervisor\\Desktop\\对华情感研究项目 zhenfeng zhou\\网络舆情作业\\新一轮对华情感预测\\bert_gpt_checkpoint'\n",
    "\n",
    "def setup_seed(seed):\n",
    "    torch.manual_seed(seed)\n",
    "    torch.cuda.manual_seed_all(seed)\n",
    "    np.random.seed(seed)\n",
    "    random.seed(seed)\n",
    "    torch.backends.cudnn.deterministic = True\n",
    "setup_seed(random_seed)\n",
    "\n",
    "\n",
    "def save_model(save_name):\n",
    "    if not os.path.exists(save_path):\n",
    "        os.makedirs(save_path)\n",
    "    torch.save(model.state_dict(), os.path.join(save_path, save_name))\n",
    "\n",
    "for lr in lrs:\n",
    "    # for seed in random_seeds:\n",
    "    #     setup_seed(seed)\n",
    "    # 定义模型\n",
    "    model = BertClassifier()\n",
    "    # model.load_state_dict(torch.load(os.path.join(save_path, 'last.pt')))\n",
    "    # 定义损失函数和优化器\n",
    "    # criterion = nn.CrossEntropyLoss()\n",
    "    # optimizer = Adam(model.parameters(), lr=lr)\n",
    "    model = model.to(device)\n",
    "    # criterion = criterion.to(device)\n",
    "    \n",
    "    # 构建数据加载器\n",
    "    train_loader = DataLoader(train_dataset, batch_size=batch_size, shuffle=True)\n",
    "    dev_loader = DataLoader(dev_dataset, batch_size=batch_size)\n",
    "\n",
    "     # === 计算 class weights ===\n",
    "    all_labels = [int(sample['labels']) for sample in train_dataset]  # 确保是 int 类型\n",
    "    # classes = np.unique(all_labels)  # 确保包含所有标签\n",
    "    # all_labels = [sample['labels'] for sample in train_dataset]\n",
    "    class_weights_np = compute_class_weight(class_weight='balanced',\n",
    "                                            classes=np.unique(all_labels),\n",
    "                                            y=all_labels)\n",
    "    class_weights = torch.tensor(class_weights_np, dtype=torch.float).to(device)\n",
    "\n",
    "\n",
    "    # === 定义损失函数和优化器 ===\n",
    "    criterion = nn.CrossEntropyLoss(weight=class_weights).to(device)\n",
    "    optimizer = Adam(model.parameters(), lr=lr)\n",
    "\n",
    "    # 训练\n",
    "    best_dev_acc = 0\n",
    "    # total_step = 0\n",
    "    for epoch_num in range(epoch):\n",
    "        total_acc_train = 0\n",
    "        total_loss_train = 0\n",
    "        for batch in tqdm(train_loader):\n",
    "            # total_step += 1\n",
    "            # input_ids = inputs['input_ids'].squeeze(1).to(device) # torch.Size([32, 35])\n",
    "            # input_ids = inputs['input_ids'].to(device).squeeze()  # 或不 squeeze\n",
    "            # masks = inputs['attention_mask'].to(device) # torch.Size([32, 1, 35])\n",
    "            input_ids = batch['input_ids'].to(device)  # shape: [batch_size, seq_len]\n",
    "            masks = batch['attention_mask'].to(device) # shape: [batch_size, seq_len]\n",
    "            labels = batch['labels'].to(device)\n",
    "            output = model(input_ids, masks)\n",
    "    \n",
    "            batch_loss = criterion(output, labels)\n",
    "            batch_loss.backward()\n",
    "            optimizer.step()\n",
    "            optimizer.zero_grad()\n",
    "            acc = (output.argmax(dim=1) == labels).sum().item()\n",
    "            total_acc_train += acc\n",
    "            total_loss_train += batch_loss.item()\n",
    "            # if total_step > 100:\n",
    "            #     break\n",
    "    \n",
    "        # ----------- 验证模型 -----------\n",
    "        model.eval()\n",
    "        total_acc_val = 0\n",
    "        total_loss_val = 0\n",
    "        # 不需要计算梯度\n",
    "        with torch.no_grad():\n",
    "            # 循环获取数据集，并用训练好的模型进行验证\n",
    "            for batch in dev_loader:\n",
    "                # input_ids = inputs['input_ids'].squeeze(1).to(device) # torch.Size([32, 35])\n",
    "                # input_ids = inputs['input_ids'].to(device).squeeze()  # 或不 squeeze\n",
    "                input_ids = batch['input_ids'].to(device)\n",
    "                masks = batch['attention_mask'].to(device) # torch.Size([32, 1, 35])\n",
    "                try:\n",
    "                    labels = batch['labels'].to(device)\n",
    "                    output = model(input_ids, masks)\n",
    "            \n",
    "                except:\n",
    "                    print(labels)\n",
    "    \n",
    "                batch_loss = criterion(output, labels)\n",
    "                acc = (output.argmax(dim=1) == labels).sum().item()\n",
    "                total_acc_val += acc\n",
    "                total_loss_val += batch_loss.item()\n",
    "            \n",
    "            print(f'''Epochs: {epoch_num + 1} \n",
    "              | Train Loss: {total_loss_train / len(train_dataset): .3f} \n",
    "              | Train Accuracy: {total_acc_train / len(train_dataset): .3f} \n",
    "              | Val Loss: {total_loss_val / len(dev_dataset): .3f} \n",
    "              | Val Accuracy: {total_acc_val / len(dev_dataset): .3f}''')\n",
    "            \n",
    "            # 保存最优的模型\n",
    "            if total_acc_val / len(dev_dataset) > best_dev_acc:\n",
    "                best_dev_acc = total_acc_val / len(dev_dataset)\n",
    "                print(f\"best_dev_acc:{best_dev_acc}, lr:{lr}, epoch:{epoch_num + 1}\")\n",
    "                save_model('best.pt')\n",
    "        model.train()\n",
    "    print(f\"best_dev_acc:{best_dev_acc}, lr:{lr}\")\n",
    "    totals_acc_val.append(best_dev_acc)\n",
    "\n",
    "# 保存最后的模型，以便继续训练\n",
    "save_model('last.pt')\n",
    "# todo 保存优化器"
   ]
  },
  {
   "cell_type": "code",
   "execution_count": 54,
   "id": "d621447a-600e-4e69-bf73-67bbd103ec3c",
   "metadata": {},
   "outputs": [
    {
     "data": {
      "text/plain": [
       "[0.7422303473491774,\n",
       " 0.7495429616087751,\n",
       " 0.7568555758683729,\n",
       " 0.7477148080438757,\n",
       " 0.6160877513711152]"
      ]
     },
     "execution_count": 54,
     "metadata": {},
     "output_type": "execute_result"
    }
   ],
   "source": [
    "## bertween_base用全部的gpt_label最好的lr是2e-5，accuracy 是0.7568\n",
    "totals_acc_val"
   ]
  },
  {
   "cell_type": "code",
   "execution_count": 70,
   "id": "772e59aa-d93f-4fea-b878-f5f61207a552",
   "metadata": {},
   "outputs": [
    {
     "data": {
      "text/plain": [
       "[0.7719298245614035,\n",
       " 0.7748538011695907,\n",
       " 0.7631578947368421,\n",
       " 0.7543859649122807,\n",
       " 0.716374269005848]"
      ]
     },
     "execution_count": 70,
     "metadata": {},
     "output_type": "execute_result"
    }
   ],
   "source": [
    "## bertween_base用“2”开头的数据加llm数据增强，最好的表现是1e-5:0.777\n",
    "totals_acc_val"
   ]
  },
  {
   "cell_type": "code",
   "execution_count": 16,
   "id": "5a9e1fe1-fe75-4ecf-b22e-40090de95407",
   "metadata": {},
   "outputs": [
    {
     "data": {
      "text/plain": [
       "[0.6111111111111112,\n",
       " 0.5994152046783626,\n",
       " 0.5994152046783626,\n",
       " 0.4766081871345029,\n",
       " 0.4766081871345029]"
      ]
     },
     "execution_count": 16,
     "metadata": {},
     "output_type": "execute_result"
    }
   ],
   "source": [
    "## 换成预训练模型bert_base_uncase用“2”开头的数据加llm数据增强\n",
    "totals_acc_val"
   ]
  },
  {
   "cell_type": "markdown",
   "id": "a66409b9-451b-4c63-9d16-a0d171b198d1",
   "metadata": {},
   "source": [
    "### test，（其实也不用，学术界一般分为训练和测试，其实这个代码的dev验证相当于测试了，但工业界一般分为训练，dev验证和test)"
   ]
  },
  {
   "cell_type": "code",
   "execution_count": 26,
   "id": "b10e28a6-c813-4e43-ab63-16bde34a693e",
   "metadata": {},
   "outputs": [
    {
     "name": "stdout",
     "output_type": "stream",
     "text": [
      "重新加载best model\n"
     ]
    }
   ],
   "source": [
    "import torch\n",
    "import torch.nn as nn\n",
    "from torch.utils.data import DataLoader\n",
    "from transformers import BertModel\n",
    "from sklearn.metrics import classification_report, confusion_matrix, accuracy_score\n",
    "import matplotlib.pyplot as plt\n",
    "import seaborn as sns\n",
    "import pandas as pd\n",
    "\n",
    "# ====== 1. 定义 BertClassifier 类（保持和训练时一致） ======\n",
    "from transformers import RobertaModel\n",
    "from torch import nn\n",
    "class BertClassifier(nn.Module):\n",
    "    def __init__(self, pretrained_path=BERT_PATH, dropout_prob=0.5, num_classes=3):\n",
    "        super(BertClassifier, self).__init__()\n",
    "        self.roberta = RobertaModel.from_pretrained(pretrained_path)\n",
    "        self.dropout = nn.Dropout(dropout_prob)\n",
    "        self.classifier = nn.Linear(self.roberta.config.hidden_size, num_classes)\n",
    "\n",
    "    def forward(self, input_ids, attention_mask):\n",
    "        outputs = self.roberta(input_ids=input_ids, attention_mask=attention_mask)\n",
    "        pooled_output = outputs.last_hidden_state[:, 0, :]  # 使用 [CLS] token\n",
    "        pooled_output = self.dropout(pooled_output)\n",
    "        return self.classifier(pooled_output)\n",
    "\n",
    "# ====== 2. 加载模型 ======\n",
    "device = torch.device(\"cuda\" if torch.cuda.is_available() else \"cpu\")\n",
    "model = BertClassifier()\n",
    "checkpoint_path = r\"C:\\Users\\supervisor\\Desktop\\对华情感研究项目 zhenfeng zhou\\网络舆情作业\\新一轮对华情感预测\\bert_gpt_checkpoint\\best.pt\"\n",
    "model.load_state_dict(torch.load(checkpoint_path, map_location=device))\n",
    "model.to(device)\n",
    "model.eval()\n",
    "\n",
    "print(\"重新加载best model\")"
   ]
  },
  {
   "cell_type": "code",
   "execution_count": 27,
   "id": "96956ab6-44e6-4c4d-b54f-6410af32c657",
   "metadata": {},
   "outputs": [
    {
     "name": "stdout",
     "output_type": "stream",
     "text": [
      "Test Accuracy:  0.786\n",
      "\n",
      "Classification Report:\n",
      "              precision    recall  f1-score   support\n",
      "\n",
      "     neutral     0.8326    0.7302    0.7780       252\n",
      "    positive     0.7207    0.7843    0.7512       102\n",
      "    negative     0.7721    0.8601    0.8137       193\n",
      "\n",
      "    accuracy                         0.7861       547\n",
      "   macro avg     0.7751    0.7915    0.7810       547\n",
      "weighted avg     0.7904    0.7861    0.7856       547\n",
      "\n"
     ]
    },
    {
     "data": {
      "image/png": "[encoded data removed]",
      "text/plain": [
       "<Figure size 600x500 with 2 Axes>"
      ]
     },
     "metadata": {},
     "output_type": "display_data"
    }
   ],
   "source": [
    "from sklearn.metrics import classification_report, confusion_matrix, accuracy_score\n",
    "import matplotlib.pyplot as plt\n",
    "import seaborn as sns\n",
    "\n",
    "def evaluate(model, dataset):\n",
    "    model.eval()\n",
    "    test_loader = DataLoader(dataset, batch_size=128)\n",
    "\n",
    "    total_acc_test = 0\n",
    "    all_preds = []\n",
    "    all_labels = []\n",
    "\n",
    "    with torch.no_grad():\n",
    "        for batch in test_loader:\n",
    "            input_id = batch['input_ids'].squeeze(1).to(device)\n",
    "            mask = batch['attention_mask'].to(device)\n",
    "            test_label = batch['labels'].to(device)\n",
    "\n",
    "            output = model(input_id, mask)\n",
    "            preds = output.argmax(dim=1)\n",
    "\n",
    "            acc = (preds == test_label).sum().item()\n",
    "            total_acc_test += acc\n",
    "\n",
    "            all_preds.extend(preds.cpu().numpy())\n",
    "            all_labels.extend(test_label.cpu().numpy())\n",
    "\n",
    "    # 准确率\n",
    "    accuracy = total_acc_test / len(dataset)\n",
    "    print(f'Test Accuracy: {accuracy: .3f}\\n')\n",
    "\n",
    "    # 分类报告\n",
    "    print(\"Classification Report:\")\n",
    "    print(classification_report(all_labels, all_preds, digits=4, target_names=[\"neutral\", \"positive\", \"negative\"]))\n",
    "\n",
    "    # 混淆矩阵可视化\n",
    "    cm = confusion_matrix(all_labels, all_preds)\n",
    "    plt.figure(figsize=(6, 5))\n",
    "    sns.heatmap(cm, annot=True, fmt='d', cmap='Blues',\n",
    "                xticklabels=[\"neutral\", \"positive\", \"negative\"],\n",
    "                yticklabels=[\"neutral\", \"positive\", \"negative\"])\n",
    "    plt.xlabel(\"Predicted Label\")\n",
    "    plt.ylabel(\"True Label\")\n",
    "    plt.title(\"Confusion Matrix\")\n",
    "    plt.tight_layout()\n",
    "    plt.show()\n",
    "\n",
    "evaluate(model, test_dataset)"
   ]
  },
  {
   "cell_type": "code",
   "execution_count": null,
   "id": "2992daa3-e660-467e-9c5c-1891bdd9d17d",
   "metadata": {},
   "outputs": [],
   "source": []
  }
 ],
 "metadata": {
  "kernelspec": {
   "display_name": "Python 3 (ipykernel)",
   "language": "python",
   "name": "python3"
  },
  "language_info": {
   "codemirror_mode": {
    "name": "ipython",
    "version": 3
   },
   "file_extension": ".py",
   "mimetype": "text/x-python",
   "name": "python",
   "nbconvert_exporter": "python",
   "pygments_lexer": "ipython3",
   "version": "3.11.4"
  },
  "toc": {
   "base_numbering": 1,
   "nav_menu": {},
   "number_sections": true,
   "sideBar": true,
   "skip_h1_title": false,
   "title_cell": "Table of Contents",
   "title_sidebar": "Contents",
   "toc_cell": false,
   "toc_position": {},
   "toc_section_display": true,
   "toc_window_display": false
  }
 },
 "nbformat": 4,
 "nbformat_minor": 5
}
